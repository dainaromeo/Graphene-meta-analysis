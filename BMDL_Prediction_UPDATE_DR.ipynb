{
 "cells": [
  {
   "cell_type": "code",
   "execution_count": 2,
   "id": "bfca51e7",
   "metadata": {},
   "outputs": [],
   "source": [
    "import pandas as pd\n",
    "#import pandas_profiling as pp\n",
    "import numpy as np\n",
    "import matplotlib.pyplot as plt\n",
    "import re\n",
    "from sklearn.preprocessing import MinMaxScaler\n",
    "from sklearn.datasets import make_classification\n",
    "from sklearn.model_selection import RepeatedKFold\n",
    "from sklearn.model_selection import cross_val_score\n",
    "from sklearn.model_selection import LeaveOneOut\n",
    "from sklearn.linear_model import LinearRegression\n",
    "from sklearn.linear_model import BayesianRidge\n",
    "from sklearn.feature_selection import VarianceThreshold\n",
    "from sklearn.ensemble import GradientBoostingRegressor\n",
    "from sklearn.ensemble import RandomForestRegressor\n",
    "from sklearn.ensemble import VotingRegressor\n",
    "from sklearn.neural_network import MLPRegressor\n",
    "from mlxtend.plotting import plot_sequential_feature_selection as plot_sfs\n",
    "import matplotlib.pyplot as plt\n",
    "from xgboost import XGBRegressor\n",
    "from sklearn.model_selection import cross_val_predict\n",
    "from sklearn.metrics import r2_score as r2\n",
    "import statsmodels.api as sm"
   ]
  },
  {
   "cell_type": "code",
   "execution_count": 2,
   "id": "cc7a1424",
   "metadata": {},
   "outputs": [],
   "source": [
    "## Preprocessing"
   ]
  },
  {
   "cell_type": "code",
   "execution_count": 3,
   "id": "c0fafaa2",
   "metadata": {},
   "outputs": [],
   "source": [
    "graph = pd.read_csv(r'Graphene/Graphene_BMD_UPDATED_no_outliers.csv')\n",
    "graph.rename(columns={'variable':'assay'}, inplace=True)\n",
    "\n",
    "graph.func.fillna('', inplace=True)\n",
    "# Combine the graphene type name and the functionalization in a unique feature called new_name\n",
    "graph['new_name'] = graph.Substance + ' ' + graph.func\n",
    "graph.loc[graph.layer ==0.0, 'layer'] = np.nan\n",
    "# Data set for viability endpoints - df_v\n",
    "viability_list = ['nucleo', 'alive','cfa', 'viability_alamar', 'ez_cyto', 'viability_pi',\n",
    "       'viability_ldh', 'viability_mtt',  'viability_cck', 'viability_wst', 'neutral_red', 'viability_hymolisis']\n",
    "graph = graph.loc[graph['assay'].isin(viability_list), :].copy()\n",
    "\n",
    "# NEW Replace viability_x for x\n",
    "graph['assay'] = graph['assay'].apply(lambda row: row.replace('viability_', ''))\n",
    "\n",
    "# keep only alpha numeric characters in media column\n",
    "graph['media'] = graph['media'].apply(lambda row: re.sub(r'\\W+', '', row))\n",
    "df_v = graph.copy() \n",
    "## REMOVE OUTLIERS - The outliers were found via IBM SPSS\n",
    "df_v = df_v[df_v['BMDL'] < 296.425]\n",
    "df_v.reset_index(drop=True, inplace=True)\n",
    "df_v.dropna(subset=['layer'], inplace=True)\n",
    "df_v.reset_index(drop=True, inplace=True)"
   ]
  },
  {
   "cell_type": "code",
   "execution_count": 4,
   "id": "9838110e",
   "metadata": {
    "scrolled": false
   },
   "outputs": [
    {
     "data": {
      "text/plain": "                              analysis       BMD     BMDL    BMDH  bmd_id  \\\n0  Graphene_4070_dose_viability_pi.txt  59.93000  51.8000  68.400    4070   \n1         Graphene_1018_dose_alive.txt  38.56000  23.3000  58.300    1018   \n2           Graphene_2013_dose_cfa.txt   0.08387   0.0799   0.088    2013   \n3           Graphene_2014_dose_cfa.txt  10.00000   9.8000  10.200    2014   \n4           Graphene_2015_dose_cfa.txt   0.55740   0.5260   0.589    2015   \n\n    ID         author_year                                       link  \\\n0  358  Mittal et all 2016  https://www.nature.com/articles/srep39548   \n1  111       Ma et al 2015  https://pubmed.ncbi.nlm.nih.gov/26389709/   \n2   95     Chaterje N 2015  https://pubmed.ncbi.nlm.nih.gov/26602558/   \n3  101     Chaterje N 2015  https://pubmed.ncbi.nlm.nih.gov/26602558/   \n4  102     Chaterje N 2015  https://pubmed.ncbi.nlm.nih.gov/26602558/   \n\n        Substance              type  ...        ali time cell_type  \\\n0  Graphene oxide                GO  ...  Submerged   24      A549   \n1  Graphene oxide    GO Sheets long  ...  Submerged   24   J774.A1   \n2        Graphene              GNPs  ...  Submerged  240  BEAS- 2B   \n3  Graphene oxide  GO Single layer   ...  Submerged  240  BEAS- 2B   \n4  Graphene oxide    GO few layers   ...  Submerged  240  BEAS- 2B   \n\n   cell_type_general  species  endotox  assay         new_name BMD_range  \\\n0         epithelial    human       NO     pi  Graphene oxide    16.6000   \n1         macrophage   rodent      NaN  alive  Graphene oxide    35.0000   \n2         epithelial    human      NaN    cfa        Graphene     0.0081   \n3         epithelial    human      NaN    cfa  Graphene oxide     0.4000   \n4         epithelial    human      NaN    cfa  Graphene oxide     0.0630   \n\n        cell_species  \n0   epithelial_human  \n1  macrophage_rodent  \n2   epithelial_human  \n3   epithelial_human  \n4   epithelial_human  \n\n[5 rows x 36 columns]",
      "text/html": "<div>\n<style scoped>\n    .dataframe tbody tr th:only-of-type {\n        vertical-align: middle;\n    }\n\n    .dataframe tbody tr th {\n        vertical-align: top;\n    }\n\n    .dataframe thead th {\n        text-align: right;\n    }\n</style>\n<table border=\"1\" class=\"dataframe\">\n  <thead>\n    <tr style=\"text-align: right;\">\n      <th></th>\n      <th>analysis</th>\n      <th>BMD</th>\n      <th>BMDL</th>\n      <th>BMDH</th>\n      <th>bmd_id</th>\n      <th>ID</th>\n      <th>author_year</th>\n      <th>link</th>\n      <th>Substance</th>\n      <th>type</th>\n      <th>...</th>\n      <th>ali</th>\n      <th>time</th>\n      <th>cell_type</th>\n      <th>cell_type_general</th>\n      <th>species</th>\n      <th>endotox</th>\n      <th>assay</th>\n      <th>new_name</th>\n      <th>BMD_range</th>\n      <th>cell_species</th>\n    </tr>\n  </thead>\n  <tbody>\n    <tr>\n      <th>0</th>\n      <td>Graphene_4070_dose_viability_pi.txt</td>\n      <td>59.93000</td>\n      <td>51.8000</td>\n      <td>68.400</td>\n      <td>4070</td>\n      <td>358</td>\n      <td>Mittal et all 2016</td>\n      <td>https://www.nature.com/articles/srep39548</td>\n      <td>Graphene oxide</td>\n      <td>GO</td>\n      <td>...</td>\n      <td>Submerged</td>\n      <td>24</td>\n      <td>A549</td>\n      <td>epithelial</td>\n      <td>human</td>\n      <td>NO</td>\n      <td>pi</td>\n      <td>Graphene oxide</td>\n      <td>16.6000</td>\n      <td>epithelial_human</td>\n    </tr>\n    <tr>\n      <th>1</th>\n      <td>Graphene_1018_dose_alive.txt</td>\n      <td>38.56000</td>\n      <td>23.3000</td>\n      <td>58.300</td>\n      <td>1018</td>\n      <td>111</td>\n      <td>Ma et al 2015</td>\n      <td>https://pubmed.ncbi.nlm.nih.gov/26389709/</td>\n      <td>Graphene oxide</td>\n      <td>GO Sheets long</td>\n      <td>...</td>\n      <td>Submerged</td>\n      <td>24</td>\n      <td>J774.A1</td>\n      <td>macrophage</td>\n      <td>rodent</td>\n      <td>NaN</td>\n      <td>alive</td>\n      <td>Graphene oxide</td>\n      <td>35.0000</td>\n      <td>macrophage_rodent</td>\n    </tr>\n    <tr>\n      <th>2</th>\n      <td>Graphene_2013_dose_cfa.txt</td>\n      <td>0.08387</td>\n      <td>0.0799</td>\n      <td>0.088</td>\n      <td>2013</td>\n      <td>95</td>\n      <td>Chaterje N 2015</td>\n      <td>https://pubmed.ncbi.nlm.nih.gov/26602558/</td>\n      <td>Graphene</td>\n      <td>GNPs</td>\n      <td>...</td>\n      <td>Submerged</td>\n      <td>240</td>\n      <td>BEAS- 2B</td>\n      <td>epithelial</td>\n      <td>human</td>\n      <td>NaN</td>\n      <td>cfa</td>\n      <td>Graphene</td>\n      <td>0.0081</td>\n      <td>epithelial_human</td>\n    </tr>\n    <tr>\n      <th>3</th>\n      <td>Graphene_2014_dose_cfa.txt</td>\n      <td>10.00000</td>\n      <td>9.8000</td>\n      <td>10.200</td>\n      <td>2014</td>\n      <td>101</td>\n      <td>Chaterje N 2015</td>\n      <td>https://pubmed.ncbi.nlm.nih.gov/26602558/</td>\n      <td>Graphene oxide</td>\n      <td>GO Single layer</td>\n      <td>...</td>\n      <td>Submerged</td>\n      <td>240</td>\n      <td>BEAS- 2B</td>\n      <td>epithelial</td>\n      <td>human</td>\n      <td>NaN</td>\n      <td>cfa</td>\n      <td>Graphene oxide</td>\n      <td>0.4000</td>\n      <td>epithelial_human</td>\n    </tr>\n    <tr>\n      <th>4</th>\n      <td>Graphene_2015_dose_cfa.txt</td>\n      <td>0.55740</td>\n      <td>0.5260</td>\n      <td>0.589</td>\n      <td>2015</td>\n      <td>102</td>\n      <td>Chaterje N 2015</td>\n      <td>https://pubmed.ncbi.nlm.nih.gov/26602558/</td>\n      <td>Graphene oxide</td>\n      <td>GO few layers</td>\n      <td>...</td>\n      <td>Submerged</td>\n      <td>240</td>\n      <td>BEAS- 2B</td>\n      <td>epithelial</td>\n      <td>human</td>\n      <td>NaN</td>\n      <td>cfa</td>\n      <td>Graphene oxide</td>\n      <td>0.0630</td>\n      <td>epithelial_human</td>\n    </tr>\n  </tbody>\n</table>\n<p>5 rows × 36 columns</p>\n</div>"
     },
     "execution_count": 4,
     "metadata": {},
     "output_type": "execute_result"
    }
   ],
   "source": [
    "df_v.head()"
   ]
  },
  {
   "cell_type": "code",
   "execution_count": 5,
   "id": "21670df1",
   "metadata": {},
   "outputs": [
    {
     "data": {
      "text/plain": "74"
     },
     "execution_count": 5,
     "metadata": {},
     "output_type": "execute_result"
    }
   ],
   "source": [
    "len(df_v)"
   ]
  },
  {
   "cell_type": "code",
   "execution_count": 6,
   "id": "549490b5",
   "metadata": {
    "pycharm": {
     "name": "#%% NEW CHANGED FROM NEW_NAME TO SUBSTANCE AND FUNC FEATURES FOR CONSISTENCY (NOT AGGREGATE THE TWO)\n"
    }
   },
   "outputs": [],
   "source": [
    "df_analysis = df_v[['bmd_id', 'Substance', 'func', 'media', 'size_class', 'layer', 'time', 'cell_type_general', 'species', 'assay', 'BMDL']].copy()"
   ]
  },
  {
   "cell_type": "code",
   "execution_count": 7,
   "id": "5b4fc6c3",
   "metadata": {},
   "outputs": [],
   "source": [
    "#Data Visualization"
   ]
  },
  {
   "cell_type": "code",
   "execution_count": 7,
   "id": "ea119dc2",
   "metadata": {},
   "outputs": [
    {
     "data": {
      "text/plain": "            bmd_id      layer        time        BMDL\ncount    74.000000  74.000000   74.000000   74.000000\nmean   5293.175676   2.398649   41.513514   60.043455\nstd    1789.030520   1.947917   56.058981   70.022873\nmin    1018.000000   1.000000    3.000000    0.070800\n25%    4097.500000   1.000000   24.000000   10.575000\n50%    6070.500000   1.500000   24.000000   28.600000\n75%    6090.750000   3.500000   48.000000   80.825000\nmax    9057.000000   8.000000  240.000000  264.000000",
      "text/html": "<div>\n<style scoped>\n    .dataframe tbody tr th:only-of-type {\n        vertical-align: middle;\n    }\n\n    .dataframe tbody tr th {\n        vertical-align: top;\n    }\n\n    .dataframe thead th {\n        text-align: right;\n    }\n</style>\n<table border=\"1\" class=\"dataframe\">\n  <thead>\n    <tr style=\"text-align: right;\">\n      <th></th>\n      <th>bmd_id</th>\n      <th>layer</th>\n      <th>time</th>\n      <th>BMDL</th>\n    </tr>\n  </thead>\n  <tbody>\n    <tr>\n      <th>count</th>\n      <td>74.000000</td>\n      <td>74.000000</td>\n      <td>74.000000</td>\n      <td>74.000000</td>\n    </tr>\n    <tr>\n      <th>mean</th>\n      <td>5293.175676</td>\n      <td>2.398649</td>\n      <td>41.513514</td>\n      <td>60.043455</td>\n    </tr>\n    <tr>\n      <th>std</th>\n      <td>1789.030520</td>\n      <td>1.947917</td>\n      <td>56.058981</td>\n      <td>70.022873</td>\n    </tr>\n    <tr>\n      <th>min</th>\n      <td>1018.000000</td>\n      <td>1.000000</td>\n      <td>3.000000</td>\n      <td>0.070800</td>\n    </tr>\n    <tr>\n      <th>25%</th>\n      <td>4097.500000</td>\n      <td>1.000000</td>\n      <td>24.000000</td>\n      <td>10.575000</td>\n    </tr>\n    <tr>\n      <th>50%</th>\n      <td>6070.500000</td>\n      <td>1.500000</td>\n      <td>24.000000</td>\n      <td>28.600000</td>\n    </tr>\n    <tr>\n      <th>75%</th>\n      <td>6090.750000</td>\n      <td>3.500000</td>\n      <td>48.000000</td>\n      <td>80.825000</td>\n    </tr>\n    <tr>\n      <th>max</th>\n      <td>9057.000000</td>\n      <td>8.000000</td>\n      <td>240.000000</td>\n      <td>264.000000</td>\n    </tr>\n  </tbody>\n</table>\n</div>"
     },
     "execution_count": 7,
     "metadata": {},
     "output_type": "execute_result"
    }
   ],
   "source": [
    "#eda = pp.ProfileReport(df_analysis)\n",
    "#display(eda)\n",
    "df_analysis.describe()"
   ]
  },
  {
   "cell_type": "code",
   "execution_count": 9,
   "id": "77f9856d",
   "metadata": {},
   "outputs": [],
   "source": [
    "### Preprocessing: Eliminate the ones with less than elements"
   ]
  },
  {
   "cell_type": "code",
   "execution_count": 8,
   "id": "553e4f7f",
   "metadata": {
    "scrolled": true
   },
   "outputs": [
    {
     "name": "stdout",
     "output_type": "stream",
     "text": [
      "                  media  bmd_id\n",
      "8             RPMI10FBS      22\n",
      "3          DMEMF1210FBS      18\n",
      "6              F1210FBS      14\n",
      "1             DMEM10FBS       7\n",
      "0             BEGM10FBS       4\n",
      "4       DMEMF12and10FBS       2\n",
      "7                  RPMI       2\n",
      "10             RPMI2FBS       2\n",
      "2               DMEMF12       1\n",
      "5   DMEMORRPMIplus10FBS       1\n",
      "9             RPMI10FCS       1\n",
      "         assay  bmd_id\n",
      "5          mtt      36\n",
      "4          ldh      10\n",
      "7           pi       8\n",
      "2          cfa       5\n",
      "3      ez_cyto       5\n",
      "8          wst       5\n",
      "1          cck       2\n",
      "6  neutral_red       2\n",
      "0        alive       1\n"
     ]
    }
   ],
   "source": [
    "filter_df = pd.DataFrame()\n",
    "elements = 3 #Select sets with more than 3 elements\n",
    "for column in ['media', 'assay']:\n",
    "    print(df_analysis.groupby(by=column, as_index=False).agg({'bmd_id': pd.Series.nunique}).sort_values(by='bmd_id', ascending=False))\n",
    "    a_df = df_analysis.groupby(by=column, as_index=False).agg({'bmd_id': pd.Series.nunique}).sort_values(by='bmd_id', ascending=False)\n",
    "    columns = a_df[a_df['bmd_id']>elements][column].values\n",
    "    if len(filter_df)==0:\n",
    "        filter_df = df_analysis[df_analysis.apply(lambda row: row[column] in columns, axis=1)]\n",
    "    else:\n",
    "        filter_df = filter_df[filter_df.apply(lambda row: row[column] in columns, axis=1)]\n",
    "data_df = filter_df.copy()"
   ]
  },
  {
   "cell_type": "code",
   "execution_count": null,
   "id": "e1719a8a",
   "metadata": {},
   "outputs": [],
   "source": [
    "#data_df = df_analysis.copy()"
   ]
  },
  {
   "cell_type": "code",
   "execution_count": 9,
   "id": "14b468ad",
   "metadata": {},
   "outputs": [
    {
     "data": {
      "text/plain": "            bmd_id      layer        time        BMDL\ncount    61.000000  61.000000   61.000000   61.000000\nmean   5337.836066   2.491803   44.459016   61.252389\nstd    1524.042346   1.948272   61.294800   69.955486\nmin    2013.000000   1.000000    3.000000    0.070800\n25%    5003.000000   1.000000   24.000000    9.800000\n50%    6071.000000   1.500000   24.000000   31.100000\n75%    6087.000000   3.500000   48.000000  122.000000\nmax    8039.000000   8.000000  240.000000  231.000000",
      "text/html": "<div>\n<style scoped>\n    .dataframe tbody tr th:only-of-type {\n        vertical-align: middle;\n    }\n\n    .dataframe tbody tr th {\n        vertical-align: top;\n    }\n\n    .dataframe thead th {\n        text-align: right;\n    }\n</style>\n<table border=\"1\" class=\"dataframe\">\n  <thead>\n    <tr style=\"text-align: right;\">\n      <th></th>\n      <th>bmd_id</th>\n      <th>layer</th>\n      <th>time</th>\n      <th>BMDL</th>\n    </tr>\n  </thead>\n  <tbody>\n    <tr>\n      <th>count</th>\n      <td>61.000000</td>\n      <td>61.000000</td>\n      <td>61.000000</td>\n      <td>61.000000</td>\n    </tr>\n    <tr>\n      <th>mean</th>\n      <td>5337.836066</td>\n      <td>2.491803</td>\n      <td>44.459016</td>\n      <td>61.252389</td>\n    </tr>\n    <tr>\n      <th>std</th>\n      <td>1524.042346</td>\n      <td>1.948272</td>\n      <td>61.294800</td>\n      <td>69.955486</td>\n    </tr>\n    <tr>\n      <th>min</th>\n      <td>2013.000000</td>\n      <td>1.000000</td>\n      <td>3.000000</td>\n      <td>0.070800</td>\n    </tr>\n    <tr>\n      <th>25%</th>\n      <td>5003.000000</td>\n      <td>1.000000</td>\n      <td>24.000000</td>\n      <td>9.800000</td>\n    </tr>\n    <tr>\n      <th>50%</th>\n      <td>6071.000000</td>\n      <td>1.500000</td>\n      <td>24.000000</td>\n      <td>31.100000</td>\n    </tr>\n    <tr>\n      <th>75%</th>\n      <td>6087.000000</td>\n      <td>3.500000</td>\n      <td>48.000000</td>\n      <td>122.000000</td>\n    </tr>\n    <tr>\n      <th>max</th>\n      <td>8039.000000</td>\n      <td>8.000000</td>\n      <td>240.000000</td>\n      <td>231.000000</td>\n    </tr>\n  </tbody>\n</table>\n</div>"
     },
     "execution_count": 9,
     "metadata": {},
     "output_type": "execute_result"
    }
   ],
   "source": [
    "data_df.describe()"
   ]
  },
  {
   "cell_type": "code",
   "execution_count": null,
   "id": "2d6ca735",
   "metadata": {},
   "outputs": [],
   "source": [
    "## Select only the columns you want to include"
   ]
  },
  {
   "cell_type": "code",
   "execution_count": 10,
   "id": "ecec2497",
   "metadata": {},
   "outputs": [
    {
     "data": {
      "text/plain": "Index(['bmd_id', 'Substance', 'func', 'media', 'size_class', 'layer', 'time',\n       'cell_type_general', 'species', 'assay', 'BMDL'],\n      dtype='object')"
     },
     "execution_count": 10,
     "metadata": {},
     "output_type": "execute_result"
    }
   ],
   "source": [
    "data_df.columns"
   ]
  },
  {
   "cell_type": "code",
   "execution_count": 11,
   "id": "a2791a21",
   "metadata": {
    "scrolled": true
   },
   "outputs": [
    {
     "data": {
      "text/plain": "        Substance func         media size_class  layer  time  \\\n0  Graphene oxide       DMEMF1210FBS          S    1.0    24   \n2        Graphene           F1210FBS          L    2.0   240   \n3  Graphene oxide           F1210FBS          M    1.0   240   \n4  Graphene oxide           F1210FBS          M    6.0   240   \n5        Graphene  NH2      F1210FBS          L    1.5   240   \n\n  cell_type_general species assay     BMDL  \n0        epithelial   human    pi  51.8000  \n2        epithelial   human   cfa   0.0799  \n3        epithelial   human   cfa   9.8000  \n4        epithelial   human   cfa   0.5260  \n5        epithelial   human   cfa   0.2240  ",
      "text/html": "<div>\n<style scoped>\n    .dataframe tbody tr th:only-of-type {\n        vertical-align: middle;\n    }\n\n    .dataframe tbody tr th {\n        vertical-align: top;\n    }\n\n    .dataframe thead th {\n        text-align: right;\n    }\n</style>\n<table border=\"1\" class=\"dataframe\">\n  <thead>\n    <tr style=\"text-align: right;\">\n      <th></th>\n      <th>Substance</th>\n      <th>func</th>\n      <th>media</th>\n      <th>size_class</th>\n      <th>layer</th>\n      <th>time</th>\n      <th>cell_type_general</th>\n      <th>species</th>\n      <th>assay</th>\n      <th>BMDL</th>\n    </tr>\n  </thead>\n  <tbody>\n    <tr>\n      <th>0</th>\n      <td>Graphene oxide</td>\n      <td></td>\n      <td>DMEMF1210FBS</td>\n      <td>S</td>\n      <td>1.0</td>\n      <td>24</td>\n      <td>epithelial</td>\n      <td>human</td>\n      <td>pi</td>\n      <td>51.8000</td>\n    </tr>\n    <tr>\n      <th>2</th>\n      <td>Graphene</td>\n      <td></td>\n      <td>F1210FBS</td>\n      <td>L</td>\n      <td>2.0</td>\n      <td>240</td>\n      <td>epithelial</td>\n      <td>human</td>\n      <td>cfa</td>\n      <td>0.0799</td>\n    </tr>\n    <tr>\n      <th>3</th>\n      <td>Graphene oxide</td>\n      <td></td>\n      <td>F1210FBS</td>\n      <td>M</td>\n      <td>1.0</td>\n      <td>240</td>\n      <td>epithelial</td>\n      <td>human</td>\n      <td>cfa</td>\n      <td>9.8000</td>\n    </tr>\n    <tr>\n      <th>4</th>\n      <td>Graphene oxide</td>\n      <td></td>\n      <td>F1210FBS</td>\n      <td>M</td>\n      <td>6.0</td>\n      <td>240</td>\n      <td>epithelial</td>\n      <td>human</td>\n      <td>cfa</td>\n      <td>0.5260</td>\n    </tr>\n    <tr>\n      <th>5</th>\n      <td>Graphene</td>\n      <td>NH2</td>\n      <td>F1210FBS</td>\n      <td>L</td>\n      <td>1.5</td>\n      <td>240</td>\n      <td>epithelial</td>\n      <td>human</td>\n      <td>cfa</td>\n      <td>0.2240</td>\n    </tr>\n  </tbody>\n</table>\n</div>"
     },
     "execution_count": 11,
     "metadata": {},
     "output_type": "execute_result"
    }
   ],
   "source": [
    "columns = ['Substance', 'func','media', 'size_class', 'layer', 'time','cell_type_general', 'species', 'assay','BMDL']\n",
    "data_df = data_df[columns]\n",
    "data_df.head()"
   ]
  },
  {
   "cell_type": "code",
   "execution_count": 17,
   "id": "bc655dea",
   "metadata": {},
   "outputs": [],
   "source": [
    "## Encoding"
   ]
  },
  {
   "cell_type": "code",
   "execution_count": 12,
   "id": "1a2657bf",
   "metadata": {},
   "outputs": [
    {
     "data": {
      "text/plain": "   Substance_Graphene  Substance_Graphene oxide  Substance_rGO  func_  \\\n0                   0                         1              0      1   \n2                   1                         0              0      1   \n3                   0                         1              0      1   \n4                   0                         1              0      1   \n5                   1                         0              0      0   \n\n   func_COOH  func_NH2  func_PAA  func_PAM  func_PEG  func_hydrated  ...  \\\n0          0         0         0         0         0              0  ...   \n2          0         0         0         0         0              0  ...   \n3          0         0         0         0         0              0  ...   \n4          0         0         0         0         0              0  ...   \n5          0         1         0         0         0              0  ...   \n\n   media_DMEM10FBS  media_DMEMF1210FBS  media_F1210FBS  media_RPMI10FBS  \\\n0                0                   1               0                0   \n2                0                   0               1                0   \n3                0                   0               1                0   \n4                0                   0               1                0   \n5                0                   0               1                0   \n\n   species_human  species_rodent  size_class  layer  time     BMDL  \n0              1               0           1    1.0    24  51.8000  \n2              1               0           3    2.0   240   0.0799  \n3              1               0           2    1.0   240   9.8000  \n4              1               0           2    6.0   240   0.5260  \n5              1               0           3    1.5   240   0.2240  \n\n[5 rows x 29 columns]",
      "text/html": "<div>\n<style scoped>\n    .dataframe tbody tr th:only-of-type {\n        vertical-align: middle;\n    }\n\n    .dataframe tbody tr th {\n        vertical-align: top;\n    }\n\n    .dataframe thead th {\n        text-align: right;\n    }\n</style>\n<table border=\"1\" class=\"dataframe\">\n  <thead>\n    <tr style=\"text-align: right;\">\n      <th></th>\n      <th>Substance_Graphene</th>\n      <th>Substance_Graphene oxide</th>\n      <th>Substance_rGO</th>\n      <th>func_</th>\n      <th>func_COOH</th>\n      <th>func_NH2</th>\n      <th>func_PAA</th>\n      <th>func_PAM</th>\n      <th>func_PEG</th>\n      <th>func_hydrated</th>\n      <th>...</th>\n      <th>media_DMEM10FBS</th>\n      <th>media_DMEMF1210FBS</th>\n      <th>media_F1210FBS</th>\n      <th>media_RPMI10FBS</th>\n      <th>species_human</th>\n      <th>species_rodent</th>\n      <th>size_class</th>\n      <th>layer</th>\n      <th>time</th>\n      <th>BMDL</th>\n    </tr>\n  </thead>\n  <tbody>\n    <tr>\n      <th>0</th>\n      <td>0</td>\n      <td>1</td>\n      <td>0</td>\n      <td>1</td>\n      <td>0</td>\n      <td>0</td>\n      <td>0</td>\n      <td>0</td>\n      <td>0</td>\n      <td>0</td>\n      <td>...</td>\n      <td>0</td>\n      <td>1</td>\n      <td>0</td>\n      <td>0</td>\n      <td>1</td>\n      <td>0</td>\n      <td>1</td>\n      <td>1.0</td>\n      <td>24</td>\n      <td>51.8000</td>\n    </tr>\n    <tr>\n      <th>2</th>\n      <td>1</td>\n      <td>0</td>\n      <td>0</td>\n      <td>1</td>\n      <td>0</td>\n      <td>0</td>\n      <td>0</td>\n      <td>0</td>\n      <td>0</td>\n      <td>0</td>\n      <td>...</td>\n      <td>0</td>\n      <td>0</td>\n      <td>1</td>\n      <td>0</td>\n      <td>1</td>\n      <td>0</td>\n      <td>3</td>\n      <td>2.0</td>\n      <td>240</td>\n      <td>0.0799</td>\n    </tr>\n    <tr>\n      <th>3</th>\n      <td>0</td>\n      <td>1</td>\n      <td>0</td>\n      <td>1</td>\n      <td>0</td>\n      <td>0</td>\n      <td>0</td>\n      <td>0</td>\n      <td>0</td>\n      <td>0</td>\n      <td>...</td>\n      <td>0</td>\n      <td>0</td>\n      <td>1</td>\n      <td>0</td>\n      <td>1</td>\n      <td>0</td>\n      <td>2</td>\n      <td>1.0</td>\n      <td>240</td>\n      <td>9.8000</td>\n    </tr>\n    <tr>\n      <th>4</th>\n      <td>0</td>\n      <td>1</td>\n      <td>0</td>\n      <td>1</td>\n      <td>0</td>\n      <td>0</td>\n      <td>0</td>\n      <td>0</td>\n      <td>0</td>\n      <td>0</td>\n      <td>...</td>\n      <td>0</td>\n      <td>0</td>\n      <td>1</td>\n      <td>0</td>\n      <td>1</td>\n      <td>0</td>\n      <td>2</td>\n      <td>6.0</td>\n      <td>240</td>\n      <td>0.5260</td>\n    </tr>\n    <tr>\n      <th>5</th>\n      <td>1</td>\n      <td>0</td>\n      <td>0</td>\n      <td>0</td>\n      <td>0</td>\n      <td>1</td>\n      <td>0</td>\n      <td>0</td>\n      <td>0</td>\n      <td>0</td>\n      <td>...</td>\n      <td>0</td>\n      <td>0</td>\n      <td>1</td>\n      <td>0</td>\n      <td>1</td>\n      <td>0</td>\n      <td>3</td>\n      <td>1.5</td>\n      <td>240</td>\n      <td>0.2240</td>\n    </tr>\n  </tbody>\n</table>\n<p>5 rows × 29 columns</p>\n</div>"
     },
     "execution_count": 12,
     "metadata": {},
     "output_type": "execute_result"
    }
   ],
   "source": [
    "enc_size = {'S':1, 'M':2, 'L':3}\n",
    "col_continuous = ['layer', 'time'] \n",
    "dataset_df = pd.get_dummies(data_df[['Substance', 'func', 'cell_type_general','assay', 'media', 'species']], prefix=['Substance', 'func', 'cell_type_general','assay', 'media', 'species'])\n",
    "dataset_df['size_class'] = data_df['size_class'].apply(lambda row: enc_size[row])\n",
    "dataset_df[col_continuous] = data_df[col_continuous]\n",
    "dataset_df['BMDL'] = data_df['BMDL']\n",
    "dataset_df.head()"
   ]
  },
  {
   "cell_type": "code",
   "execution_count": 19,
   "id": "2fc6a94d",
   "metadata": {},
   "outputs": [],
   "source": [
    "##Normalize the data"
   ]
  },
  {
   "cell_type": "code",
   "execution_count": 13,
   "id": "7cf90f28",
   "metadata": {},
   "outputs": [
    {
     "data": {
      "text/plain": "      layer      time  size_class\n0  0.000000  0.088608         0.0\n2  0.142857  1.000000         1.0\n3  0.000000  1.000000         0.5\n4  0.714286  1.000000         0.5\n5  0.071429  1.000000         1.0",
      "text/html": "<div>\n<style scoped>\n    .dataframe tbody tr th:only-of-type {\n        vertical-align: middle;\n    }\n\n    .dataframe tbody tr th {\n        vertical-align: top;\n    }\n\n    .dataframe thead th {\n        text-align: right;\n    }\n</style>\n<table border=\"1\" class=\"dataframe\">\n  <thead>\n    <tr style=\"text-align: right;\">\n      <th></th>\n      <th>layer</th>\n      <th>time</th>\n      <th>size_class</th>\n    </tr>\n  </thead>\n  <tbody>\n    <tr>\n      <th>0</th>\n      <td>0.000000</td>\n      <td>0.088608</td>\n      <td>0.0</td>\n    </tr>\n    <tr>\n      <th>2</th>\n      <td>0.142857</td>\n      <td>1.000000</td>\n      <td>1.0</td>\n    </tr>\n    <tr>\n      <th>3</th>\n      <td>0.000000</td>\n      <td>1.000000</td>\n      <td>0.5</td>\n    </tr>\n    <tr>\n      <th>4</th>\n      <td>0.714286</td>\n      <td>1.000000</td>\n      <td>0.5</td>\n    </tr>\n    <tr>\n      <th>5</th>\n      <td>0.071429</td>\n      <td>1.000000</td>\n      <td>1.0</td>\n    </tr>\n  </tbody>\n</table>\n</div>"
     },
     "execution_count": 13,
     "metadata": {},
     "output_type": "execute_result"
    }
   ],
   "source": [
    "scaler = MinMaxScaler()\n",
    "dataset_df[col_continuous+['size_class']] = scaler.fit_transform(dataset_df[col_continuous+['size_class']])\n",
    "dataset_df[col_continuous+['size_class']].head()"
   ]
  },
  {
   "cell_type": "code",
   "execution_count": 21,
   "id": "eceb5827",
   "metadata": {},
   "outputs": [],
   "source": [
    "## Create model"
   ]
  },
  {
   "cell_type": "code",
   "execution_count": 14,
   "id": "ef3a8acf",
   "metadata": {},
   "outputs": [],
   "source": [
    "x_columns = [col for col in dataset_df.columns if col != 'BMDL']\n",
    "y_columns = ['BMDL']"
   ]
  },
  {
   "cell_type": "code",
   "execution_count": 15,
   "id": "41071ad0",
   "metadata": {
    "scrolled": true
   },
   "outputs": [
    {
     "data": {
      "text/plain": "['Substance_Graphene',\n 'Substance_Graphene oxide',\n 'Substance_rGO',\n 'func_',\n 'func_COOH',\n 'func_NH2',\n 'func_PAA',\n 'func_PAM',\n 'func_PEG',\n 'func_hydrated',\n 'cell_type_general_epithelial',\n 'cell_type_general_macrophage',\n 'assay_cfa',\n 'assay_ez_cyto',\n 'assay_ldh',\n 'assay_mtt',\n 'assay_pi',\n 'assay_wst',\n 'media_BEGM10FBS',\n 'media_DMEM10FBS',\n 'media_DMEMF1210FBS',\n 'media_F1210FBS',\n 'media_RPMI10FBS',\n 'species_human',\n 'species_rodent',\n 'size_class',\n 'layer',\n 'time']"
     },
     "execution_count": 15,
     "metadata": {},
     "output_type": "execute_result"
    }
   ],
   "source": [
    "x_columns"
   ]
  },
  {
   "cell_type": "code",
   "execution_count": 24,
   "id": "18e077b9",
   "metadata": {},
   "outputs": [],
   "source": [
    "# create matrix"
   ]
  },
  {
   "cell_type": "code",
   "execution_count": 16,
   "id": "be2ddfea",
   "metadata": {},
   "outputs": [],
   "source": [
    "X =  dataset_df[x_columns].values\n",
    "y =  dataset_df[y_columns].values.ravel()"
   ]
  },
  {
   "cell_type": "code",
   "execution_count": 17,
   "id": "2f3b2f36",
   "metadata": {},
   "outputs": [
    {
     "data": {
      "text/plain": "    Substance_Graphene  Substance_Graphene oxide  Substance_rGO  func_  \\\n0                    0                         1              0      1   \n2                    1                         0              0      1   \n3                    0                         1              0      1   \n4                    0                         1              0      1   \n5                    1                         0              0      0   \n6                    1                         0              0      0   \n7                    1                         0              0      1   \n8                    0                         1              0      1   \n9                    0                         1              0      1   \n10                   1                         0              0      0   \n11                   1                         0              0      0   \n12                   0                         1              0      1   \n13                   0                         0              1      1   \n14                   0                         0              1      1   \n15                   0                         0              1      1   \n17                   1                         0              0      1   \n18                   1                         0              0      1   \n19                   0                         1              0      1   \n20                   0                         1              0      0   \n21                   0                         1              0      0   \n22                   0                         1              0      0   \n23                   0                         1              0      0   \n25                   0                         1              0      1   \n27                   1                         0              0      1   \n28                   1                         0              0      1   \n29                   0                         0              1      0   \n30                   0                         0              1      1   \n31                   0                         1              0      1   \n32                   0                         1              0      1   \n33                   0                         1              0      1   \n..                 ...                       ...            ...    ...   \n35                   0                         1              0      1   \n36                   0                         1              0      1   \n37                   0                         1              0      1   \n38                   0                         0              1      1   \n39                   0                         0              1      1   \n40                   0                         0              1      1   \n41                   0                         0              1      1   \n42                   0                         0              1      1   \n43                   0                         0              1      1   \n44                   0                         0              1      1   \n45                   0                         0              1      1   \n46                   0                         0              1      1   \n47                   0                         0              1      1   \n48                   0                         0              1      1   \n49                   0                         0              1      1   \n50                   0                         0              1      1   \n51                   0                         0              1      1   \n52                   0                         0              1      1   \n55                   0                         1              0      1   \n56                   0                         0              1      1   \n57                   0                         1              0      0   \n58                   0                         1              0      0   \n59                   0                         1              0      1   \n60                   0                         0              1      1   \n61                   0                         1              0      0   \n62                   0                         1              0      0   \n65                   0                         1              0      1   \n66                   0                         1              0      1   \n67                   0                         1              0      1   \n68                   0                         1              0      1   \n\n    func_COOH  func_NH2  func_PAA  func_PAM  func_PEG  func_hydrated  ...  \\\n0           0         0         0         0         0              0  ...   \n2           0         0         0         0         0              0  ...   \n3           0         0         0         0         0              0  ...   \n4           0         0         0         0         0              0  ...   \n5           0         1         0         0         0              0  ...   \n6           1         0         0         0         0              0  ...   \n7           0         0         0         0         0              0  ...   \n8           0         0         0         0         0              0  ...   \n9           0         0         0         0         0              0  ...   \n10          0         1         0         0         0              0  ...   \n11          1         0         0         0         0              0  ...   \n12          0         0         0         0         0              0  ...   \n13          0         0         0         0         0              0  ...   \n14          0         0         0         0         0              0  ...   \n15          0         0         0         0         0              0  ...   \n17          0         0         0         0         0              0  ...   \n18          0         0         0         0         0              0  ...   \n19          0         0         0         0         0              0  ...   \n20          0         1         0         0         0              0  ...   \n21          0         0         1         0         0              0  ...   \n22          0         0         0         1         0              0  ...   \n23          0         0         0         0         1              0  ...   \n25          0         0         0         0         0              0  ...   \n27          0         0         0         0         0              0  ...   \n28          0         0         0         0         0              0  ...   \n29          0         0         0         0         1              0  ...   \n30          0         0         0         0         0              0  ...   \n31          0         0         0         0         0              0  ...   \n32          0         0         0         0         0              0  ...   \n33          0         0         0         0         0              0  ...   \n..        ...       ...       ...       ...       ...            ...  ...   \n35          0         0         0         0         0              0  ...   \n36          0         0         0         0         0              0  ...   \n37          0         0         0         0         0              0  ...   \n38          0         0         0         0         0              0  ...   \n39          0         0         0         0         0              0  ...   \n40          0         0         0         0         0              0  ...   \n41          0         0         0         0         0              0  ...   \n42          0         0         0         0         0              0  ...   \n43          0         0         0         0         0              0  ...   \n44          0         0         0         0         0              0  ...   \n45          0         0         0         0         0              0  ...   \n46          0         0         0         0         0              0  ...   \n47          0         0         0         0         0              0  ...   \n48          0         0         0         0         0              0  ...   \n49          0         0         0         0         0              0  ...   \n50          0         0         0         0         0              0  ...   \n51          0         0         0         0         0              0  ...   \n52          0         0         0         0         0              0  ...   \n55          0         0         0         0         0              0  ...   \n56          0         0         0         0         0              0  ...   \n57          0         0         0         0         0              1  ...   \n58          0         0         0         0         0              1  ...   \n59          0         0         0         0         0              0  ...   \n60          0         0         0         0         0              0  ...   \n61          0         0         0         0         0              1  ...   \n62          0         0         0         0         0              1  ...   \n65          0         0         0         0         0              0  ...   \n66          0         0         0         0         0              0  ...   \n67          0         0         0         0         0              0  ...   \n68          0         0         0         0         0              0  ...   \n\n    media_BEGM10FBS  media_DMEM10FBS  media_DMEMF1210FBS  media_F1210FBS  \\\n0                 0                0                   1               0   \n2                 0                0                   0               1   \n3                 0                0                   0               1   \n4                 0                0                   0               1   \n5                 0                0                   0               1   \n6                 0                0                   0               1   \n7                 0                0                   0               1   \n8                 0                0                   0               1   \n9                 0                0                   0               1   \n10                0                0                   0               1   \n11                0                0                   0               1   \n12                0                0                   0               0   \n13                0                0                   1               0   \n14                0                0                   0               0   \n15                0                0                   0               0   \n17                0                0                   0               1   \n18                0                0                   0               1   \n19                0                1                   0               0   \n20                0                1                   0               0   \n21                0                1                   0               0   \n22                0                1                   0               0   \n23                0                1                   0               0   \n25                0                0                   0               0   \n27                0                0                   0               1   \n28                0                0                   0               1   \n29                0                0                   1               0   \n30                0                0                   1               0   \n31                0                0                   1               0   \n32                0                0                   1               0   \n33                0                0                   1               0   \n..              ...              ...                 ...             ...   \n35                0                0                   0               0   \n36                0                0                   0               0   \n37                0                0                   0               0   \n38                0                0                   1               0   \n39                0                0                   1               0   \n40                0                0                   1               0   \n41                0                0                   1               0   \n42                0                0                   0               0   \n43                0                0                   0               0   \n44                0                0                   0               0   \n45                0                0                   0               0   \n46                0                0                   1               0   \n47                0                0                   1               0   \n48                0                0                   1               0   \n49                0                0                   1               0   \n50                0                0                   0               0   \n51                0                0                   0               0   \n52                0                0                   0               0   \n55                1                0                   0               0   \n56                1                0                   0               0   \n57                1                0                   0               0   \n58                1                0                   0               0   \n59                0                0                   0               0   \n60                0                0                   0               0   \n61                0                0                   0               0   \n62                0                0                   0               0   \n65                0                0                   0               0   \n66                0                0                   0               0   \n67                0                0                   0               0   \n68                0                0                   0               0   \n\n    media_RPMI10FBS  species_human  species_rodent  size_class     layer  \\\n0                 0              1               0         0.0  0.000000   \n2                 0              1               0         1.0  0.142857   \n3                 0              1               0         0.5  0.000000   \n4                 0              1               0         0.5  0.714286   \n5                 0              1               0         1.0  0.071429   \n6                 0              1               0         1.0  0.071429   \n7                 0              1               0         1.0  0.142857   \n8                 0              1               0         0.5  0.000000   \n9                 0              1               0         0.5  0.714286   \n10                0              1               0         1.0  0.071429   \n11                0              1               0         1.0  0.071429   \n12                1              1               0         0.0  0.000000   \n13                0              1               0         0.0  0.357143   \n14                1              1               0         0.0  0.357143   \n15                1              1               0         0.0  0.357143   \n17                0              1               0         0.0  1.000000   \n18                0              1               0         0.0  1.000000   \n19                0              0               1         0.0  0.000000   \n20                0              0               1         0.0  0.000000   \n21                0              0               1         0.0  0.000000   \n22                0              0               1         0.0  0.000000   \n23                0              0               1         0.0  0.000000   \n25                1              1               0         1.0  0.000000   \n27                0              1               0         0.0  1.000000   \n28                0              1               0         0.0  1.000000   \n29                0              1               0         0.5  0.000000   \n30                0              1               0         0.5  0.000000   \n31                0              1               0         0.0  0.000000   \n32                0              1               0         0.0  0.000000   \n33                0              1               0         0.0  0.000000   \n..              ...            ...             ...         ...       ...   \n35                1              1               0         0.0  0.000000   \n36                1              1               0         0.0  0.000000   \n37                1              1               0         0.0  0.000000   \n38                0              1               0         0.0  0.357143   \n39                0              1               0         0.0  0.357143   \n40                0              1               0         0.0  0.357143   \n41                0              1               0         0.0  0.357143   \n42                1              1               0         0.0  0.357143   \n43                1              1               0         0.0  0.357143   \n44                1              1               0         0.0  0.357143   \n45                1              1               0         0.0  0.357143   \n46                0              1               0         0.0  0.357143   \n47                0              1               0         0.0  0.357143   \n48                0              1               0         0.0  0.357143   \n49                0              1               0         0.0  0.357143   \n50                1              1               0         0.0  0.357143   \n51                1              1               0         0.0  0.357143   \n52                1              1               0         0.0  0.357143   \n55                0              1               0         0.0  0.071429   \n56                0              1               0         0.0  0.071429   \n57                0              1               0         0.0  0.071429   \n58                0              1               0         0.0  0.071429   \n59                1              1               0         0.0  0.071429   \n60                1              1               0         0.0  0.071429   \n61                1              1               0         0.0  0.071429   \n62                1              1               0         0.0  0.071429   \n65                1              1               0         0.5  0.000000   \n66                1              1               0         0.5  0.000000   \n67                1              1               0         0.5  0.000000   \n68                1              1               0         0.0  0.000000   \n\n        time  \n0   0.088608  \n2   1.000000  \n3   1.000000  \n4   1.000000  \n5   1.000000  \n6   1.000000  \n7   0.088608  \n8   0.088608  \n9   0.088608  \n10  0.088608  \n11  0.088608  \n12  0.088608  \n13  0.088608  \n14  0.088608  \n15  0.088608  \n17  0.088608  \n18  0.291139  \n19  0.088608  \n20  0.088608  \n21  0.088608  \n22  0.088608  \n23  0.088608  \n25  0.088608  \n27  0.088608  \n28  0.291139  \n29  0.088608  \n30  0.088608  \n31  0.000000  \n32  0.012658  \n33  0.088608  \n..       ...  \n35  0.012658  \n36  0.088608  \n37  0.189873  \n38  0.000000  \n39  0.012658  \n40  0.088608  \n41  0.189873  \n42  0.000000  \n43  0.012658  \n44  0.088608  \n45  0.189873  \n46  0.000000  \n47  0.012658  \n48  0.088608  \n49  0.189873  \n50  0.012658  \n51  0.088608  \n52  0.189873  \n55  0.189873  \n56  0.189873  \n57  0.189873  \n58  0.189873  \n59  0.189873  \n60  0.189873  \n61  0.189873  \n62  0.189873  \n65  0.012658  \n66  0.012658  \n67  0.012658  \n68  0.012658  \n\n[61 rows x 28 columns]",
      "text/html": "<div>\n<style scoped>\n    .dataframe tbody tr th:only-of-type {\n        vertical-align: middle;\n    }\n\n    .dataframe tbody tr th {\n        vertical-align: top;\n    }\n\n    .dataframe thead th {\n        text-align: right;\n    }\n</style>\n<table border=\"1\" class=\"dataframe\">\n  <thead>\n    <tr style=\"text-align: right;\">\n      <th></th>\n      <th>Substance_Graphene</th>\n      <th>Substance_Graphene oxide</th>\n      <th>Substance_rGO</th>\n      <th>func_</th>\n      <th>func_COOH</th>\n      <th>func_NH2</th>\n      <th>func_PAA</th>\n      <th>func_PAM</th>\n      <th>func_PEG</th>\n      <th>func_hydrated</th>\n      <th>...</th>\n      <th>media_BEGM10FBS</th>\n      <th>media_DMEM10FBS</th>\n      <th>media_DMEMF1210FBS</th>\n      <th>media_F1210FBS</th>\n      <th>media_RPMI10FBS</th>\n      <th>species_human</th>\n      <th>species_rodent</th>\n      <th>size_class</th>\n      <th>layer</th>\n      <th>time</th>\n    </tr>\n  </thead>\n  <tbody>\n    <tr>\n      <th>0</th>\n      <td>0</td>\n      <td>1</td>\n      <td>0</td>\n      <td>1</td>\n      <td>0</td>\n      <td>0</td>\n      <td>0</td>\n      <td>0</td>\n      <td>0</td>\n      <td>0</td>\n      <td>...</td>\n      <td>0</td>\n      <td>0</td>\n      <td>1</td>\n      <td>0</td>\n      <td>0</td>\n      <td>1</td>\n      <td>0</td>\n      <td>0.0</td>\n      <td>0.000000</td>\n      <td>0.088608</td>\n    </tr>\n    <tr>\n      <th>2</th>\n      <td>1</td>\n      <td>0</td>\n      <td>0</td>\n      <td>1</td>\n      <td>0</td>\n      <td>0</td>\n      <td>0</td>\n      <td>0</td>\n      <td>0</td>\n      <td>0</td>\n      <td>...</td>\n      <td>0</td>\n      <td>0</td>\n      <td>0</td>\n      <td>1</td>\n      <td>0</td>\n      <td>1</td>\n      <td>0</td>\n      <td>1.0</td>\n      <td>0.142857</td>\n      <td>1.000000</td>\n    </tr>\n    <tr>\n      <th>3</th>\n      <td>0</td>\n      <td>1</td>\n      <td>0</td>\n      <td>1</td>\n      <td>0</td>\n      <td>0</td>\n      <td>0</td>\n      <td>0</td>\n      <td>0</td>\n      <td>0</td>\n      <td>...</td>\n      <td>0</td>\n      <td>0</td>\n      <td>0</td>\n      <td>1</td>\n      <td>0</td>\n      <td>1</td>\n      <td>0</td>\n      <td>0.5</td>\n      <td>0.000000</td>\n      <td>1.000000</td>\n    </tr>\n    <tr>\n      <th>4</th>\n      <td>0</td>\n      <td>1</td>\n      <td>0</td>\n      <td>1</td>\n      <td>0</td>\n      <td>0</td>\n      <td>0</td>\n      <td>0</td>\n      <td>0</td>\n      <td>0</td>\n      <td>...</td>\n      <td>0</td>\n      <td>0</td>\n      <td>0</td>\n      <td>1</td>\n      <td>0</td>\n      <td>1</td>\n      <td>0</td>\n      <td>0.5</td>\n      <td>0.714286</td>\n      <td>1.000000</td>\n    </tr>\n    <tr>\n      <th>5</th>\n      <td>1</td>\n      <td>0</td>\n      <td>0</td>\n      <td>0</td>\n      <td>0</td>\n      <td>1</td>\n      <td>0</td>\n      <td>0</td>\n      <td>0</td>\n      <td>0</td>\n      <td>...</td>\n      <td>0</td>\n      <td>0</td>\n      <td>0</td>\n      <td>1</td>\n      <td>0</td>\n      <td>1</td>\n      <td>0</td>\n      <td>1.0</td>\n      <td>0.071429</td>\n      <td>1.000000</td>\n    </tr>\n    <tr>\n      <th>6</th>\n      <td>1</td>\n      <td>0</td>\n      <td>0</td>\n      <td>0</td>\n      <td>1</td>\n      <td>0</td>\n      <td>0</td>\n      <td>0</td>\n      <td>0</td>\n      <td>0</td>\n      <td>...</td>\n      <td>0</td>\n      <td>0</td>\n      <td>0</td>\n      <td>1</td>\n      <td>0</td>\n      <td>1</td>\n      <td>0</td>\n      <td>1.0</td>\n      <td>0.071429</td>\n      <td>1.000000</td>\n    </tr>\n    <tr>\n      <th>7</th>\n      <td>1</td>\n      <td>0</td>\n      <td>0</td>\n      <td>1</td>\n      <td>0</td>\n      <td>0</td>\n      <td>0</td>\n      <td>0</td>\n      <td>0</td>\n      <td>0</td>\n      <td>...</td>\n      <td>0</td>\n      <td>0</td>\n      <td>0</td>\n      <td>1</td>\n      <td>0</td>\n      <td>1</td>\n      <td>0</td>\n      <td>1.0</td>\n      <td>0.142857</td>\n      <td>0.088608</td>\n    </tr>\n    <tr>\n      <th>8</th>\n      <td>0</td>\n      <td>1</td>\n      <td>0</td>\n      <td>1</td>\n      <td>0</td>\n      <td>0</td>\n      <td>0</td>\n      <td>0</td>\n      <td>0</td>\n      <td>0</td>\n      <td>...</td>\n      <td>0</td>\n      <td>0</td>\n      <td>0</td>\n      <td>1</td>\n      <td>0</td>\n      <td>1</td>\n      <td>0</td>\n      <td>0.5</td>\n      <td>0.000000</td>\n      <td>0.088608</td>\n    </tr>\n    <tr>\n      <th>9</th>\n      <td>0</td>\n      <td>1</td>\n      <td>0</td>\n      <td>1</td>\n      <td>0</td>\n      <td>0</td>\n      <td>0</td>\n      <td>0</td>\n      <td>0</td>\n      <td>0</td>\n      <td>...</td>\n      <td>0</td>\n      <td>0</td>\n      <td>0</td>\n      <td>1</td>\n      <td>0</td>\n      <td>1</td>\n      <td>0</td>\n      <td>0.5</td>\n      <td>0.714286</td>\n      <td>0.088608</td>\n    </tr>\n    <tr>\n      <th>10</th>\n      <td>1</td>\n      <td>0</td>\n      <td>0</td>\n      <td>0</td>\n      <td>0</td>\n      <td>1</td>\n      <td>0</td>\n      <td>0</td>\n      <td>0</td>\n      <td>0</td>\n      <td>...</td>\n      <td>0</td>\n      <td>0</td>\n      <td>0</td>\n      <td>1</td>\n      <td>0</td>\n      <td>1</td>\n      <td>0</td>\n      <td>1.0</td>\n      <td>0.071429</td>\n      <td>0.088608</td>\n    </tr>\n    <tr>\n      <th>11</th>\n      <td>1</td>\n      <td>0</td>\n      <td>0</td>\n      <td>0</td>\n      <td>1</td>\n      <td>0</td>\n      <td>0</td>\n      <td>0</td>\n      <td>0</td>\n      <td>0</td>\n      <td>...</td>\n      <td>0</td>\n      <td>0</td>\n      <td>0</td>\n      <td>1</td>\n      <td>0</td>\n      <td>1</td>\n      <td>0</td>\n      <td>1.0</td>\n      <td>0.071429</td>\n      <td>0.088608</td>\n    </tr>\n    <tr>\n      <th>12</th>\n      <td>0</td>\n      <td>1</td>\n      <td>0</td>\n      <td>1</td>\n      <td>0</td>\n      <td>0</td>\n      <td>0</td>\n      <td>0</td>\n      <td>0</td>\n      <td>0</td>\n      <td>...</td>\n      <td>0</td>\n      <td>0</td>\n      <td>0</td>\n      <td>0</td>\n      <td>1</td>\n      <td>1</td>\n      <td>0</td>\n      <td>0.0</td>\n      <td>0.000000</td>\n      <td>0.088608</td>\n    </tr>\n    <tr>\n      <th>13</th>\n      <td>0</td>\n      <td>0</td>\n      <td>1</td>\n      <td>1</td>\n      <td>0</td>\n      <td>0</td>\n      <td>0</td>\n      <td>0</td>\n      <td>0</td>\n      <td>0</td>\n      <td>...</td>\n      <td>0</td>\n      <td>0</td>\n      <td>1</td>\n      <td>0</td>\n      <td>0</td>\n      <td>1</td>\n      <td>0</td>\n      <td>0.0</td>\n      <td>0.357143</td>\n      <td>0.088608</td>\n    </tr>\n    <tr>\n      <th>14</th>\n      <td>0</td>\n      <td>0</td>\n      <td>1</td>\n      <td>1</td>\n      <td>0</td>\n      <td>0</td>\n      <td>0</td>\n      <td>0</td>\n      <td>0</td>\n      <td>0</td>\n      <td>...</td>\n      <td>0</td>\n      <td>0</td>\n      <td>0</td>\n      <td>0</td>\n      <td>1</td>\n      <td>1</td>\n      <td>0</td>\n      <td>0.0</td>\n      <td>0.357143</td>\n      <td>0.088608</td>\n    </tr>\n    <tr>\n      <th>15</th>\n      <td>0</td>\n      <td>0</td>\n      <td>1</td>\n      <td>1</td>\n      <td>0</td>\n      <td>0</td>\n      <td>0</td>\n      <td>0</td>\n      <td>0</td>\n      <td>0</td>\n      <td>...</td>\n      <td>0</td>\n      <td>0</td>\n      <td>0</td>\n      <td>0</td>\n      <td>1</td>\n      <td>1</td>\n      <td>0</td>\n      <td>0.0</td>\n      <td>0.357143</td>\n      <td>0.088608</td>\n    </tr>\n    <tr>\n      <th>17</th>\n      <td>1</td>\n      <td>0</td>\n      <td>0</td>\n      <td>1</td>\n      <td>0</td>\n      <td>0</td>\n      <td>0</td>\n      <td>0</td>\n      <td>0</td>\n      <td>0</td>\n      <td>...</td>\n      <td>0</td>\n      <td>0</td>\n      <td>0</td>\n      <td>1</td>\n      <td>0</td>\n      <td>1</td>\n      <td>0</td>\n      <td>0.0</td>\n      <td>1.000000</td>\n      <td>0.088608</td>\n    </tr>\n    <tr>\n      <th>18</th>\n      <td>1</td>\n      <td>0</td>\n      <td>0</td>\n      <td>1</td>\n      <td>0</td>\n      <td>0</td>\n      <td>0</td>\n      <td>0</td>\n      <td>0</td>\n      <td>0</td>\n      <td>...</td>\n      <td>0</td>\n      <td>0</td>\n      <td>0</td>\n      <td>1</td>\n      <td>0</td>\n      <td>1</td>\n      <td>0</td>\n      <td>0.0</td>\n      <td>1.000000</td>\n      <td>0.291139</td>\n    </tr>\n    <tr>\n      <th>19</th>\n      <td>0</td>\n      <td>1</td>\n      <td>0</td>\n      <td>1</td>\n      <td>0</td>\n      <td>0</td>\n      <td>0</td>\n      <td>0</td>\n      <td>0</td>\n      <td>0</td>\n      <td>...</td>\n      <td>0</td>\n      <td>1</td>\n      <td>0</td>\n      <td>0</td>\n      <td>0</td>\n      <td>0</td>\n      <td>1</td>\n      <td>0.0</td>\n      <td>0.000000</td>\n      <td>0.088608</td>\n    </tr>\n    <tr>\n      <th>20</th>\n      <td>0</td>\n      <td>1</td>\n      <td>0</td>\n      <td>0</td>\n      <td>0</td>\n      <td>1</td>\n      <td>0</td>\n      <td>0</td>\n      <td>0</td>\n      <td>0</td>\n      <td>...</td>\n      <td>0</td>\n      <td>1</td>\n      <td>0</td>\n      <td>0</td>\n      <td>0</td>\n      <td>0</td>\n      <td>1</td>\n      <td>0.0</td>\n      <td>0.000000</td>\n      <td>0.088608</td>\n    </tr>\n    <tr>\n      <th>21</th>\n      <td>0</td>\n      <td>1</td>\n      <td>0</td>\n      <td>0</td>\n      <td>0</td>\n      <td>0</td>\n      <td>1</td>\n      <td>0</td>\n      <td>0</td>\n      <td>0</td>\n      <td>...</td>\n      <td>0</td>\n      <td>1</td>\n      <td>0</td>\n      <td>0</td>\n      <td>0</td>\n      <td>0</td>\n      <td>1</td>\n      <td>0.0</td>\n      <td>0.000000</td>\n      <td>0.088608</td>\n    </tr>\n    <tr>\n      <th>22</th>\n      <td>0</td>\n      <td>1</td>\n      <td>0</td>\n      <td>0</td>\n      <td>0</td>\n      <td>0</td>\n      <td>0</td>\n      <td>1</td>\n      <td>0</td>\n      <td>0</td>\n      <td>...</td>\n      <td>0</td>\n      <td>1</td>\n      <td>0</td>\n      <td>0</td>\n      <td>0</td>\n      <td>0</td>\n      <td>1</td>\n      <td>0.0</td>\n      <td>0.000000</td>\n      <td>0.088608</td>\n    </tr>\n    <tr>\n      <th>23</th>\n      <td>0</td>\n      <td>1</td>\n      <td>0</td>\n      <td>0</td>\n      <td>0</td>\n      <td>0</td>\n      <td>0</td>\n      <td>0</td>\n      <td>1</td>\n      <td>0</td>\n      <td>...</td>\n      <td>0</td>\n      <td>1</td>\n      <td>0</td>\n      <td>0</td>\n      <td>0</td>\n      <td>0</td>\n      <td>1</td>\n      <td>0.0</td>\n      <td>0.000000</td>\n      <td>0.088608</td>\n    </tr>\n    <tr>\n      <th>25</th>\n      <td>0</td>\n      <td>1</td>\n      <td>0</td>\n      <td>1</td>\n      <td>0</td>\n      <td>0</td>\n      <td>0</td>\n      <td>0</td>\n      <td>0</td>\n      <td>0</td>\n      <td>...</td>\n      <td>0</td>\n      <td>0</td>\n      <td>0</td>\n      <td>0</td>\n      <td>1</td>\n      <td>1</td>\n      <td>0</td>\n      <td>1.0</td>\n      <td>0.000000</td>\n      <td>0.088608</td>\n    </tr>\n    <tr>\n      <th>27</th>\n      <td>1</td>\n      <td>0</td>\n      <td>0</td>\n      <td>1</td>\n      <td>0</td>\n      <td>0</td>\n      <td>0</td>\n      <td>0</td>\n      <td>0</td>\n      <td>0</td>\n      <td>...</td>\n      <td>0</td>\n      <td>0</td>\n      <td>0</td>\n      <td>1</td>\n      <td>0</td>\n      <td>1</td>\n      <td>0</td>\n      <td>0.0</td>\n      <td>1.000000</td>\n      <td>0.088608</td>\n    </tr>\n    <tr>\n      <th>28</th>\n      <td>1</td>\n      <td>0</td>\n      <td>0</td>\n      <td>1</td>\n      <td>0</td>\n      <td>0</td>\n      <td>0</td>\n      <td>0</td>\n      <td>0</td>\n      <td>0</td>\n      <td>...</td>\n      <td>0</td>\n      <td>0</td>\n      <td>0</td>\n      <td>1</td>\n      <td>0</td>\n      <td>1</td>\n      <td>0</td>\n      <td>0.0</td>\n      <td>1.000000</td>\n      <td>0.291139</td>\n    </tr>\n    <tr>\n      <th>29</th>\n      <td>0</td>\n      <td>0</td>\n      <td>1</td>\n      <td>0</td>\n      <td>0</td>\n      <td>0</td>\n      <td>0</td>\n      <td>0</td>\n      <td>1</td>\n      <td>0</td>\n      <td>...</td>\n      <td>0</td>\n      <td>0</td>\n      <td>1</td>\n      <td>0</td>\n      <td>0</td>\n      <td>1</td>\n      <td>0</td>\n      <td>0.5</td>\n      <td>0.000000</td>\n      <td>0.088608</td>\n    </tr>\n    <tr>\n      <th>30</th>\n      <td>0</td>\n      <td>0</td>\n      <td>1</td>\n      <td>1</td>\n      <td>0</td>\n      <td>0</td>\n      <td>0</td>\n      <td>0</td>\n      <td>0</td>\n      <td>0</td>\n      <td>...</td>\n      <td>0</td>\n      <td>0</td>\n      <td>1</td>\n      <td>0</td>\n      <td>0</td>\n      <td>1</td>\n      <td>0</td>\n      <td>0.5</td>\n      <td>0.000000</td>\n      <td>0.088608</td>\n    </tr>\n    <tr>\n      <th>31</th>\n      <td>0</td>\n      <td>1</td>\n      <td>0</td>\n      <td>1</td>\n      <td>0</td>\n      <td>0</td>\n      <td>0</td>\n      <td>0</td>\n      <td>0</td>\n      <td>0</td>\n      <td>...</td>\n      <td>0</td>\n      <td>0</td>\n      <td>1</td>\n      <td>0</td>\n      <td>0</td>\n      <td>1</td>\n      <td>0</td>\n      <td>0.0</td>\n      <td>0.000000</td>\n      <td>0.000000</td>\n    </tr>\n    <tr>\n      <th>32</th>\n      <td>0</td>\n      <td>1</td>\n      <td>0</td>\n      <td>1</td>\n      <td>0</td>\n      <td>0</td>\n      <td>0</td>\n      <td>0</td>\n      <td>0</td>\n      <td>0</td>\n      <td>...</td>\n      <td>0</td>\n      <td>0</td>\n      <td>1</td>\n      <td>0</td>\n      <td>0</td>\n      <td>1</td>\n      <td>0</td>\n      <td>0.0</td>\n      <td>0.000000</td>\n      <td>0.012658</td>\n    </tr>\n    <tr>\n      <th>33</th>\n      <td>0</td>\n      <td>1</td>\n      <td>0</td>\n      <td>1</td>\n      <td>0</td>\n      <td>0</td>\n      <td>0</td>\n      <td>0</td>\n      <td>0</td>\n      <td>0</td>\n      <td>...</td>\n      <td>0</td>\n      <td>0</td>\n      <td>1</td>\n      <td>0</td>\n      <td>0</td>\n      <td>1</td>\n      <td>0</td>\n      <td>0.0</td>\n      <td>0.000000</td>\n      <td>0.088608</td>\n    </tr>\n    <tr>\n      <th>...</th>\n      <td>...</td>\n      <td>...</td>\n      <td>...</td>\n      <td>...</td>\n      <td>...</td>\n      <td>...</td>\n      <td>...</td>\n      <td>...</td>\n      <td>...</td>\n      <td>...</td>\n      <td>...</td>\n      <td>...</td>\n      <td>...</td>\n      <td>...</td>\n      <td>...</td>\n      <td>...</td>\n      <td>...</td>\n      <td>...</td>\n      <td>...</td>\n      <td>...</td>\n      <td>...</td>\n    </tr>\n    <tr>\n      <th>35</th>\n      <td>0</td>\n      <td>1</td>\n      <td>0</td>\n      <td>1</td>\n      <td>0</td>\n      <td>0</td>\n      <td>0</td>\n      <td>0</td>\n      <td>0</td>\n      <td>0</td>\n      <td>...</td>\n      <td>0</td>\n      <td>0</td>\n      <td>0</td>\n      <td>0</td>\n      <td>1</td>\n      <td>1</td>\n      <td>0</td>\n      <td>0.0</td>\n      <td>0.000000</td>\n      <td>0.012658</td>\n    </tr>\n    <tr>\n      <th>36</th>\n      <td>0</td>\n      <td>1</td>\n      <td>0</td>\n      <td>1</td>\n      <td>0</td>\n      <td>0</td>\n      <td>0</td>\n      <td>0</td>\n      <td>0</td>\n      <td>0</td>\n      <td>...</td>\n      <td>0</td>\n      <td>0</td>\n      <td>0</td>\n      <td>0</td>\n      <td>1</td>\n      <td>1</td>\n      <td>0</td>\n      <td>0.0</td>\n      <td>0.000000</td>\n      <td>0.088608</td>\n    </tr>\n    <tr>\n      <th>37</th>\n      <td>0</td>\n      <td>1</td>\n      <td>0</td>\n      <td>1</td>\n      <td>0</td>\n      <td>0</td>\n      <td>0</td>\n      <td>0</td>\n      <td>0</td>\n      <td>0</td>\n      <td>...</td>\n      <td>0</td>\n      <td>0</td>\n      <td>0</td>\n      <td>0</td>\n      <td>1</td>\n      <td>1</td>\n      <td>0</td>\n      <td>0.0</td>\n      <td>0.000000</td>\n      <td>0.189873</td>\n    </tr>\n    <tr>\n      <th>38</th>\n      <td>0</td>\n      <td>0</td>\n      <td>1</td>\n      <td>1</td>\n      <td>0</td>\n      <td>0</td>\n      <td>0</td>\n      <td>0</td>\n      <td>0</td>\n      <td>0</td>\n      <td>...</td>\n      <td>0</td>\n      <td>0</td>\n      <td>1</td>\n      <td>0</td>\n      <td>0</td>\n      <td>1</td>\n      <td>0</td>\n      <td>0.0</td>\n      <td>0.357143</td>\n      <td>0.000000</td>\n    </tr>\n    <tr>\n      <th>39</th>\n      <td>0</td>\n      <td>0</td>\n      <td>1</td>\n      <td>1</td>\n      <td>0</td>\n      <td>0</td>\n      <td>0</td>\n      <td>0</td>\n      <td>0</td>\n      <td>0</td>\n      <td>...</td>\n      <td>0</td>\n      <td>0</td>\n      <td>1</td>\n      <td>0</td>\n      <td>0</td>\n      <td>1</td>\n      <td>0</td>\n      <td>0.0</td>\n      <td>0.357143</td>\n      <td>0.012658</td>\n    </tr>\n    <tr>\n      <th>40</th>\n      <td>0</td>\n      <td>0</td>\n      <td>1</td>\n      <td>1</td>\n      <td>0</td>\n      <td>0</td>\n      <td>0</td>\n      <td>0</td>\n      <td>0</td>\n      <td>0</td>\n      <td>...</td>\n      <td>0</td>\n      <td>0</td>\n      <td>1</td>\n      <td>0</td>\n      <td>0</td>\n      <td>1</td>\n      <td>0</td>\n      <td>0.0</td>\n      <td>0.357143</td>\n      <td>0.088608</td>\n    </tr>\n    <tr>\n      <th>41</th>\n      <td>0</td>\n      <td>0</td>\n      <td>1</td>\n      <td>1</td>\n      <td>0</td>\n      <td>0</td>\n      <td>0</td>\n      <td>0</td>\n      <td>0</td>\n      <td>0</td>\n      <td>...</td>\n      <td>0</td>\n      <td>0</td>\n      <td>1</td>\n      <td>0</td>\n      <td>0</td>\n      <td>1</td>\n      <td>0</td>\n      <td>0.0</td>\n      <td>0.357143</td>\n      <td>0.189873</td>\n    </tr>\n    <tr>\n      <th>42</th>\n      <td>0</td>\n      <td>0</td>\n      <td>1</td>\n      <td>1</td>\n      <td>0</td>\n      <td>0</td>\n      <td>0</td>\n      <td>0</td>\n      <td>0</td>\n      <td>0</td>\n      <td>...</td>\n      <td>0</td>\n      <td>0</td>\n      <td>0</td>\n      <td>0</td>\n      <td>1</td>\n      <td>1</td>\n      <td>0</td>\n      <td>0.0</td>\n      <td>0.357143</td>\n      <td>0.000000</td>\n    </tr>\n    <tr>\n      <th>43</th>\n      <td>0</td>\n      <td>0</td>\n      <td>1</td>\n      <td>1</td>\n      <td>0</td>\n      <td>0</td>\n      <td>0</td>\n      <td>0</td>\n      <td>0</td>\n      <td>0</td>\n      <td>...</td>\n      <td>0</td>\n      <td>0</td>\n      <td>0</td>\n      <td>0</td>\n      <td>1</td>\n      <td>1</td>\n      <td>0</td>\n      <td>0.0</td>\n      <td>0.357143</td>\n      <td>0.012658</td>\n    </tr>\n    <tr>\n      <th>44</th>\n      <td>0</td>\n      <td>0</td>\n      <td>1</td>\n      <td>1</td>\n      <td>0</td>\n      <td>0</td>\n      <td>0</td>\n      <td>0</td>\n      <td>0</td>\n      <td>0</td>\n      <td>...</td>\n      <td>0</td>\n      <td>0</td>\n      <td>0</td>\n      <td>0</td>\n      <td>1</td>\n      <td>1</td>\n      <td>0</td>\n      <td>0.0</td>\n      <td>0.357143</td>\n      <td>0.088608</td>\n    </tr>\n    <tr>\n      <th>45</th>\n      <td>0</td>\n      <td>0</td>\n      <td>1</td>\n      <td>1</td>\n      <td>0</td>\n      <td>0</td>\n      <td>0</td>\n      <td>0</td>\n      <td>0</td>\n      <td>0</td>\n      <td>...</td>\n      <td>0</td>\n      <td>0</td>\n      <td>0</td>\n      <td>0</td>\n      <td>1</td>\n      <td>1</td>\n      <td>0</td>\n      <td>0.0</td>\n      <td>0.357143</td>\n      <td>0.189873</td>\n    </tr>\n    <tr>\n      <th>46</th>\n      <td>0</td>\n      <td>0</td>\n      <td>1</td>\n      <td>1</td>\n      <td>0</td>\n      <td>0</td>\n      <td>0</td>\n      <td>0</td>\n      <td>0</td>\n      <td>0</td>\n      <td>...</td>\n      <td>0</td>\n      <td>0</td>\n      <td>1</td>\n      <td>0</td>\n      <td>0</td>\n      <td>1</td>\n      <td>0</td>\n      <td>0.0</td>\n      <td>0.357143</td>\n      <td>0.000000</td>\n    </tr>\n    <tr>\n      <th>47</th>\n      <td>0</td>\n      <td>0</td>\n      <td>1</td>\n      <td>1</td>\n      <td>0</td>\n      <td>0</td>\n      <td>0</td>\n      <td>0</td>\n      <td>0</td>\n      <td>0</td>\n      <td>...</td>\n      <td>0</td>\n      <td>0</td>\n      <td>1</td>\n      <td>0</td>\n      <td>0</td>\n      <td>1</td>\n      <td>0</td>\n      <td>0.0</td>\n      <td>0.357143</td>\n      <td>0.012658</td>\n    </tr>\n    <tr>\n      <th>48</th>\n      <td>0</td>\n      <td>0</td>\n      <td>1</td>\n      <td>1</td>\n      <td>0</td>\n      <td>0</td>\n      <td>0</td>\n      <td>0</td>\n      <td>0</td>\n      <td>0</td>\n      <td>...</td>\n      <td>0</td>\n      <td>0</td>\n      <td>1</td>\n      <td>0</td>\n      <td>0</td>\n      <td>1</td>\n      <td>0</td>\n      <td>0.0</td>\n      <td>0.357143</td>\n      <td>0.088608</td>\n    </tr>\n    <tr>\n      <th>49</th>\n      <td>0</td>\n      <td>0</td>\n      <td>1</td>\n      <td>1</td>\n      <td>0</td>\n      <td>0</td>\n      <td>0</td>\n      <td>0</td>\n      <td>0</td>\n      <td>0</td>\n      <td>...</td>\n      <td>0</td>\n      <td>0</td>\n      <td>1</td>\n      <td>0</td>\n      <td>0</td>\n      <td>1</td>\n      <td>0</td>\n      <td>0.0</td>\n      <td>0.357143</td>\n      <td>0.189873</td>\n    </tr>\n    <tr>\n      <th>50</th>\n      <td>0</td>\n      <td>0</td>\n      <td>1</td>\n      <td>1</td>\n      <td>0</td>\n      <td>0</td>\n      <td>0</td>\n      <td>0</td>\n      <td>0</td>\n      <td>0</td>\n      <td>...</td>\n      <td>0</td>\n      <td>0</td>\n      <td>0</td>\n      <td>0</td>\n      <td>1</td>\n      <td>1</td>\n      <td>0</td>\n      <td>0.0</td>\n      <td>0.357143</td>\n      <td>0.012658</td>\n    </tr>\n    <tr>\n      <th>51</th>\n      <td>0</td>\n      <td>0</td>\n      <td>1</td>\n      <td>1</td>\n      <td>0</td>\n      <td>0</td>\n      <td>0</td>\n      <td>0</td>\n      <td>0</td>\n      <td>0</td>\n      <td>...</td>\n      <td>0</td>\n      <td>0</td>\n      <td>0</td>\n      <td>0</td>\n      <td>1</td>\n      <td>1</td>\n      <td>0</td>\n      <td>0.0</td>\n      <td>0.357143</td>\n      <td>0.088608</td>\n    </tr>\n    <tr>\n      <th>52</th>\n      <td>0</td>\n      <td>0</td>\n      <td>1</td>\n      <td>1</td>\n      <td>0</td>\n      <td>0</td>\n      <td>0</td>\n      <td>0</td>\n      <td>0</td>\n      <td>0</td>\n      <td>...</td>\n      <td>0</td>\n      <td>0</td>\n      <td>0</td>\n      <td>0</td>\n      <td>1</td>\n      <td>1</td>\n      <td>0</td>\n      <td>0.0</td>\n      <td>0.357143</td>\n      <td>0.189873</td>\n    </tr>\n    <tr>\n      <th>55</th>\n      <td>0</td>\n      <td>1</td>\n      <td>0</td>\n      <td>1</td>\n      <td>0</td>\n      <td>0</td>\n      <td>0</td>\n      <td>0</td>\n      <td>0</td>\n      <td>0</td>\n      <td>...</td>\n      <td>1</td>\n      <td>0</td>\n      <td>0</td>\n      <td>0</td>\n      <td>0</td>\n      <td>1</td>\n      <td>0</td>\n      <td>0.0</td>\n      <td>0.071429</td>\n      <td>0.189873</td>\n    </tr>\n    <tr>\n      <th>56</th>\n      <td>0</td>\n      <td>0</td>\n      <td>1</td>\n      <td>1</td>\n      <td>0</td>\n      <td>0</td>\n      <td>0</td>\n      <td>0</td>\n      <td>0</td>\n      <td>0</td>\n      <td>...</td>\n      <td>1</td>\n      <td>0</td>\n      <td>0</td>\n      <td>0</td>\n      <td>0</td>\n      <td>1</td>\n      <td>0</td>\n      <td>0.0</td>\n      <td>0.071429</td>\n      <td>0.189873</td>\n    </tr>\n    <tr>\n      <th>57</th>\n      <td>0</td>\n      <td>1</td>\n      <td>0</td>\n      <td>0</td>\n      <td>0</td>\n      <td>0</td>\n      <td>0</td>\n      <td>0</td>\n      <td>0</td>\n      <td>1</td>\n      <td>...</td>\n      <td>1</td>\n      <td>0</td>\n      <td>0</td>\n      <td>0</td>\n      <td>0</td>\n      <td>1</td>\n      <td>0</td>\n      <td>0.0</td>\n      <td>0.071429</td>\n      <td>0.189873</td>\n    </tr>\n    <tr>\n      <th>58</th>\n      <td>0</td>\n      <td>1</td>\n      <td>0</td>\n      <td>0</td>\n      <td>0</td>\n      <td>0</td>\n      <td>0</td>\n      <td>0</td>\n      <td>0</td>\n      <td>1</td>\n      <td>...</td>\n      <td>1</td>\n      <td>0</td>\n      <td>0</td>\n      <td>0</td>\n      <td>0</td>\n      <td>1</td>\n      <td>0</td>\n      <td>0.0</td>\n      <td>0.071429</td>\n      <td>0.189873</td>\n    </tr>\n    <tr>\n      <th>59</th>\n      <td>0</td>\n      <td>1</td>\n      <td>0</td>\n      <td>1</td>\n      <td>0</td>\n      <td>0</td>\n      <td>0</td>\n      <td>0</td>\n      <td>0</td>\n      <td>0</td>\n      <td>...</td>\n      <td>0</td>\n      <td>0</td>\n      <td>0</td>\n      <td>0</td>\n      <td>1</td>\n      <td>1</td>\n      <td>0</td>\n      <td>0.0</td>\n      <td>0.071429</td>\n      <td>0.189873</td>\n    </tr>\n    <tr>\n      <th>60</th>\n      <td>0</td>\n      <td>0</td>\n      <td>1</td>\n      <td>1</td>\n      <td>0</td>\n      <td>0</td>\n      <td>0</td>\n      <td>0</td>\n      <td>0</td>\n      <td>0</td>\n      <td>...</td>\n      <td>0</td>\n      <td>0</td>\n      <td>0</td>\n      <td>0</td>\n      <td>1</td>\n      <td>1</td>\n      <td>0</td>\n      <td>0.0</td>\n      <td>0.071429</td>\n      <td>0.189873</td>\n    </tr>\n    <tr>\n      <th>61</th>\n      <td>0</td>\n      <td>1</td>\n      <td>0</td>\n      <td>0</td>\n      <td>0</td>\n      <td>0</td>\n      <td>0</td>\n      <td>0</td>\n      <td>0</td>\n      <td>1</td>\n      <td>...</td>\n      <td>0</td>\n      <td>0</td>\n      <td>0</td>\n      <td>0</td>\n      <td>1</td>\n      <td>1</td>\n      <td>0</td>\n      <td>0.0</td>\n      <td>0.071429</td>\n      <td>0.189873</td>\n    </tr>\n    <tr>\n      <th>62</th>\n      <td>0</td>\n      <td>1</td>\n      <td>0</td>\n      <td>0</td>\n      <td>0</td>\n      <td>0</td>\n      <td>0</td>\n      <td>0</td>\n      <td>0</td>\n      <td>1</td>\n      <td>...</td>\n      <td>0</td>\n      <td>0</td>\n      <td>0</td>\n      <td>0</td>\n      <td>1</td>\n      <td>1</td>\n      <td>0</td>\n      <td>0.0</td>\n      <td>0.071429</td>\n      <td>0.189873</td>\n    </tr>\n    <tr>\n      <th>65</th>\n      <td>0</td>\n      <td>1</td>\n      <td>0</td>\n      <td>1</td>\n      <td>0</td>\n      <td>0</td>\n      <td>0</td>\n      <td>0</td>\n      <td>0</td>\n      <td>0</td>\n      <td>...</td>\n      <td>0</td>\n      <td>0</td>\n      <td>0</td>\n      <td>0</td>\n      <td>1</td>\n      <td>1</td>\n      <td>0</td>\n      <td>0.5</td>\n      <td>0.000000</td>\n      <td>0.012658</td>\n    </tr>\n    <tr>\n      <th>66</th>\n      <td>0</td>\n      <td>1</td>\n      <td>0</td>\n      <td>1</td>\n      <td>0</td>\n      <td>0</td>\n      <td>0</td>\n      <td>0</td>\n      <td>0</td>\n      <td>0</td>\n      <td>...</td>\n      <td>0</td>\n      <td>0</td>\n      <td>0</td>\n      <td>0</td>\n      <td>1</td>\n      <td>1</td>\n      <td>0</td>\n      <td>0.5</td>\n      <td>0.000000</td>\n      <td>0.012658</td>\n    </tr>\n    <tr>\n      <th>67</th>\n      <td>0</td>\n      <td>1</td>\n      <td>0</td>\n      <td>1</td>\n      <td>0</td>\n      <td>0</td>\n      <td>0</td>\n      <td>0</td>\n      <td>0</td>\n      <td>0</td>\n      <td>...</td>\n      <td>0</td>\n      <td>0</td>\n      <td>0</td>\n      <td>0</td>\n      <td>1</td>\n      <td>1</td>\n      <td>0</td>\n      <td>0.5</td>\n      <td>0.000000</td>\n      <td>0.012658</td>\n    </tr>\n    <tr>\n      <th>68</th>\n      <td>0</td>\n      <td>1</td>\n      <td>0</td>\n      <td>1</td>\n      <td>0</td>\n      <td>0</td>\n      <td>0</td>\n      <td>0</td>\n      <td>0</td>\n      <td>0</td>\n      <td>...</td>\n      <td>0</td>\n      <td>0</td>\n      <td>0</td>\n      <td>0</td>\n      <td>1</td>\n      <td>1</td>\n      <td>0</td>\n      <td>0.0</td>\n      <td>0.000000</td>\n      <td>0.012658</td>\n    </tr>\n  </tbody>\n</table>\n<p>61 rows × 28 columns</p>\n</div>"
     },
     "execution_count": 17,
     "metadata": {},
     "output_type": "execute_result"
    }
   ],
   "source": [
    "dataset_df[x_columns]"
   ]
  },
  {
   "cell_type": "code",
   "execution_count": 18,
   "id": "3916e32d",
   "metadata": {},
   "outputs": [
    {
     "data": {
      "text/plain": "array([5.18e+01, 7.99e-02, 9.80e+00, 5.26e-01, 2.24e-01, 1.95e+00,\n       2.76e+01, 5.24e+01, 4.98e+01, 2.20e+01, 1.11e+01, 1.30e+02,\n       3.11e+01, 5.20e+01, 2.12e+02, 1.48e+01, 1.97e+00, 2.30e+01,\n       2.31e+01, 3.12e+01, 5.71e+01, 3.15e+01, 1.48e+02, 1.10e-01,\n       1.41e-01, 1.61e+01, 1.21e+01, 4.11e+01, 1.04e+01, 4.18e+00,\n       5.87e-01, 1.73e+02, 1.37e+02, 5.30e+01, 8.35e+00, 1.96e+00,\n       8.07e-01, 7.08e-02, 1.24e+02, 2.73e+01, 6.06e+00, 2.18e+00,\n       1.82e+02, 1.95e+02, 1.50e+02, 4.75e+01, 1.87e+02, 2.31e+02,\n       2.03e+02, 7.28e+01, 1.24e+02, 4.31e+01, 1.57e+01, 1.82e+02,\n       2.14e+02, 1.22e+02, 6.37e+01, 4.35e+01, 2.68e+01, 1.85e+01,\n       1.33e+01])"
     },
     "execution_count": 18,
     "metadata": {},
     "output_type": "execute_result"
    }
   ],
   "source": [
    "y\n"
   ]
  },
  {
   "cell_type": "code",
   "execution_count": 111,
   "outputs": [
    {
     "name": "stdout",
     "output_type": "stream",
     "text": [
      "                            OLS Regression Results                            \n",
      "==============================================================================\n",
      "Dep. Variable:                      y   R-squared:                       0.520\n",
      "Model:                            OLS   Adj. R-squared:                  0.262\n",
      "Method:                 Least Squares   F-statistic:                     2.015\n",
      "Date:                Tue, 03 May 2022   Prob (F-statistic):             0.0287\n",
      "Time:                        16:53:32   Log-Likelihood:                -322.76\n",
      "No. Observations:                  61   AIC:                             689.5\n",
      "Df Residuals:                      39   BIC:                             736.0\n",
      "Df Model:                          21                                         \n",
      "Covariance Type:            nonrobust                                         \n",
      "================================================================================================\n",
      "                                   coef    std err          t      P>|t|      [0.025      0.975]\n",
      "------------------------------------------------------------------------------------------------\n",
      "constant                       323.4779    210.156      1.539      0.132    -101.604     748.559\n",
      "Substance_Graphene oxide         9.7234     57.011      0.171      0.865    -105.592     125.038\n",
      "Substance_rGO                   26.7013     66.974      0.399      0.692    -108.767     162.170\n",
      "func_COOH                       -8.7598     57.462     -0.152      0.880    -124.987     107.467\n",
      "func_NH2                        -6.2531     47.937     -0.130      0.897    -103.216      90.709\n",
      "func_PAA                        -2.3137     74.203     -0.031      0.975    -152.403     147.775\n",
      "func_PAM                        23.5863     74.203      0.318      0.752    -126.503     173.675\n",
      "func_PEG                       -16.6880     52.564     -0.317      0.753    -123.008      89.632\n",
      "func_hydrated                  -78.5860     45.076     -1.743      0.089    -169.760      12.588\n",
      "cell_type_general_macrophage    98.1826     44.782      2.192      0.034       7.602     188.763\n",
      "assay_ez_cyto                 -166.7907    139.772     -1.193      0.240    -449.507     115.925\n",
      "assay_ldh                     -166.9296    146.071     -1.143      0.260    -462.386     128.527\n",
      "assay_mtt                     -193.8768    155.062     -1.250      0.219    -507.519     119.766\n",
      "assay_pi                      -185.1332    158.262     -1.170      0.249    -505.247     134.981\n",
      "assay_wst                     -386.0310    177.710     -2.172      0.036    -745.483     -26.579\n",
      "media_DMEM10FBS               -105.9010     50.266     -2.107      0.042    -207.574      -4.228\n",
      "media_DMEMF1210FBS             -89.1198     44.310     -2.011      0.051    -178.744       0.505\n",
      "media_F1210FBS                -106.7040    116.406     -0.917      0.365    -342.158     128.750\n",
      "media_RPMI10FBS                -16.6576     44.782     -0.372      0.712    -107.238      73.923\n",
      "species_rodent                -105.9010     50.266     -2.107      0.042    -207.574      -4.228\n",
      "size_class                      -1.1632     63.249     -0.018      0.985    -129.096     126.770\n",
      "layer                            8.8959     71.573      0.124      0.902    -135.875     153.667\n",
      "time                          -215.9933    147.583     -1.464      0.151    -514.509      82.522\n",
      "==============================================================================\n",
      "Omnibus:                        4.523   Durbin-Watson:                   1.093\n",
      "Prob(Omnibus):                  0.104   Jarque-Bera (JB):                4.319\n",
      "Skew:                           0.304   Prob(JB):                        0.115\n",
      "Kurtosis:                       4.153   Cond. No.                     8.93e+16\n",
      "==============================================================================\n",
      "\n",
      "Notes:\n",
      "[1] Standard Errors assume that the covariance matrix of the errors is correctly specified.\n",
      "[2] The smallest eigenvalue is 1.67e-32. This might indicate that there are\n",
      "strong multicollinearity problems or that the design matrix is singular.\n"
     ]
    }
   ],
   "source": [
    "## Linear regression OLS"
   ],
   "metadata": {
    "collapsed": false,
    "pycharm": {
     "name": "#%%\n"
    }
   }
  },
  {
   "cell_type": "code",
   "execution_count": 19,
   "outputs": [
    {
     "name": "stdout",
     "output_type": "stream",
     "text": [
      "5Fold crossval R2: -0.126362 (0.231670)\n",
      "[ 0.15439712 -0.18521562 -0.06208042 -0.00395436 -0.53495593]\n",
      "Model fitting R2: 0.5203988402244786\n",
      "LOOCV R2: 0.259\n",
      "\n",
      "Mean Squared Error:  -3566.182535059928\n",
      "Standard Deviation:  5318.400163145565\n"
     ]
    }
   ],
   "source": [
    "'''\n",
    "#via statsmodels to have more extensive statistics reported\n",
    "# indipendent variable names\n",
    "x_names = ['constant'] + [x for x in x_columns]\n",
    "\n",
    "x_ols = sm.add_constant(X)\n",
    "model = sm.OLS(y, x_ols)\n",
    "results = model.fit()\n",
    "#shows model performance\n",
    "print(results.summary(xname=x_names))\n",
    "'''\n",
    "# NEW LOOCV\n",
    "cv = LeaveOneOut()\n",
    "cv2 = RepeatedKFold(n_splits=5, n_repeats=1, random_state=3)\n",
    "# create model\n",
    "model = LinearRegression()\n",
    "# OLD evaluation model\n",
    "scores = cross_val_score(model, X, y, scoring='r2', cv=cv2)\n",
    "print('5Fold crossval R2: %f (%f)' % (np.mean(scores), np.std(scores)))\n",
    "print(scores)\n",
    "# NEW EVALUATION OF MODEL\n",
    "# evaluate model fitting\n",
    "model.fit(X, y)\n",
    "fitting = model.score(X, y, sample_weight=None)\n",
    "print(f'Model fitting R2: {fitting}')\n",
    "# evaluate model\n",
    "y_pred = cross_val_predict(model, X, y, cv=cv)\n",
    "r2_score = round(r2(y,y_pred),3)\n",
    "# report performance\n",
    "print(f'LOOCV R2: {r2_score}')\n",
    "\n",
    "# Or with Mean Square Error as metric\n",
    "scoring = \"neg_mean_squared_error\"\n",
    "results = cross_val_score(model, X, y, cv=cv, scoring=scoring)\n",
    "print(); print(\"Mean Squared Error: \", results.mean()); print(\"Standard Deviation: \", results.std())\n",
    "\n"
   ],
   "metadata": {
    "collapsed": false,
    "pycharm": {
     "name": "#%%\n"
    }
   }
  },
  {
   "cell_type": "code",
   "execution_count": 28,
   "id": "52ddf231",
   "metadata": {},
   "outputs": [],
   "source": [
    "## BayesianRidge"
   ]
  },
  {
   "cell_type": "code",
   "execution_count": 20,
   "id": "8292e04b",
   "metadata": {},
   "outputs": [
    {
     "name": "stdout",
     "output_type": "stream",
     "text": [
      "5Fold crossval R2: 0.152428 (0.262834)\n",
      "[ 0.2693016   0.3607382   0.39064915  0.06163697 -0.32018451]\n",
      "Model fitting R2: 0.3631134867118303\n",
      "LOOCV R2: 0.204\n",
      "\n",
      "Mean Squared Error:  -3829.7007567412234\n",
      "Standard Deviation:  5029.25755567481\n"
     ]
    }
   ],
   "source": [
    "# prepare the cross-validation procedure\n",
    "# NEW LOOCV\n",
    "cv = LeaveOneOut()\n",
    "cv2 = RepeatedKFold(n_splits=5, n_repeats=1, random_state=3)\n",
    "# create model\n",
    "model = BayesianRidge()\n",
    "# OLD evaluation model\n",
    "scores = cross_val_score(model, X, y, scoring='r2', cv=cv2)\n",
    "print('5Fold crossval R2: %f (%f)' % (np.mean(scores), np.std(scores)))\n",
    "print(scores)\n",
    "# NEW EVALUATION OF MODEL\n",
    "# evaluate model fitting\n",
    "model.fit(X, y)\n",
    "fitting = model.score(X, y, sample_weight=None)\n",
    "print(f'Model fitting R2: {fitting}')\n",
    "# evaluate model\n",
    "y_pred = cross_val_predict(model, X, y, cv=cv)\n",
    "r2_score = round(r2(y,y_pred),3)\n",
    "# report performance\n",
    "print(f'LOOCV R2: {r2_score}')\n",
    "\n",
    "# Or with Mean Square Error as metric\n",
    "scoring = \"neg_mean_squared_error\"\n",
    "results = cross_val_score(model, X, y, cv=cv, scoring=scoring)\n",
    "print(); print(\"Mean Squared Error: \", results.mean()); print(\"Standard Deviation: \", results.std())"
   ]
  },
  {
   "cell_type": "code",
   "execution_count": 21,
   "id": "ccc35c1e",
   "metadata": {},
   "outputs": [
    {
     "data": {
      "text/plain": "array([ 0.2693016 ,  0.3607382 ,  0.39064915,  0.06163697, -0.32018451])"
     },
     "execution_count": 21,
     "metadata": {},
     "output_type": "execute_result"
    }
   ],
   "source": [
    "scores"
   ]
  },
  {
   "cell_type": "code",
   "execution_count": 31,
   "id": "9c7432d5",
   "metadata": {},
   "outputs": [],
   "source": [
    "## Multi-layer Perceptron regressor.\n",
    "## solver: The solver for weight optimization.‘lbfgs’ is an optimizer in the family of quasi-Newton methods.\n",
    "## alpha: L2 penalty (regularization term) parameter.\n",
    "## hidden_layer_sizes: The ith element represents the number of neurons in the ith hidden layer."
   ]
  },
  {
   "cell_type": "code",
   "execution_count": 22,
   "id": "72333326",
   "metadata": {
    "pycharm": {
     "name": "#%% HERE I GET A STRANGE WARNING\n"
    }
   },
   "outputs": [
    {
     "name": "stdout",
     "output_type": "stream",
     "text": [
      "5Fold crossval R2: -0.274747 (0.679770)\n",
      "[ 0.1351592   0.69256713 -0.12800706 -1.14617191 -0.92728303]\n",
      "Model fitting R2: 0.5564415287797346\n"
     ]
    },
    {
     "name": "stderr",
     "output_type": "stream",
     "text": [
      "C:\\Users\\roda\\AppData\\Local\\Continuum\\anaconda3\\lib\\site-packages\\sklearn\\neural_network\\_multilayer_perceptron.py:500: ConvergenceWarning: lbfgs failed to converge (status=2):\n",
      "ABNORMAL_TERMINATION_IN_LNSRCH.\n",
      "\n",
      "Increase the number of iterations (max_iter) or scale the data as shown in:\n",
      "    https://scikit-learn.org/stable/modules/preprocessing.html\n",
      "  self.n_iter_ = _check_optimize_result(\"lbfgs\", opt_res, self.max_iter)\n"
     ]
    },
    {
     "name": "stdout",
     "output_type": "stream",
     "text": [
      "LOOCV R2: 0.054\n"
     ]
    },
    {
     "name": "stderr",
     "output_type": "stream",
     "text": [
      "C:\\Users\\roda\\AppData\\Local\\Continuum\\anaconda3\\lib\\site-packages\\sklearn\\neural_network\\_multilayer_perceptron.py:500: ConvergenceWarning: lbfgs failed to converge (status=2):\n",
      "ABNORMAL_TERMINATION_IN_LNSRCH.\n",
      "\n",
      "Increase the number of iterations (max_iter) or scale the data as shown in:\n",
      "    https://scikit-learn.org/stable/modules/preprocessing.html\n",
      "  self.n_iter_ = _check_optimize_result(\"lbfgs\", opt_res, self.max_iter)\n"
     ]
    },
    {
     "name": "stdout",
     "output_type": "stream",
     "text": [
      "\n",
      "Mean Squared Error:  -4551.954637419706\n",
      "Standard Deviation:  6947.695208430599\n"
     ]
    }
   ],
   "source": [
    "# prepare the cross-validation procedure\n",
    "cv2 = RepeatedKFold(n_splits=5, n_repeats=1, random_state=3)\n",
    "# NEW LOOCV\n",
    "cv = LeaveOneOut()\n",
    "# create model \n",
    "model = MLPRegressor(solver='lbfgs', alpha=1e-3, hidden_layer_sizes=(5, 2), random_state=1, max_iter=1000000)\n",
    "# OLD evaluation model\n",
    "scores = cross_val_score(model, X, y, scoring='r2', cv=cv2)\n",
    "print('5Fold crossval R2: %f (%f)' % (np.mean(scores), np.std(scores)))\n",
    "print(scores)\n",
    "# NEW EVALUATION OF MODEL\n",
    "# evaluate model fitting\n",
    "model.fit(X, y)\n",
    "fitting = model.score(X, y, sample_weight=None)\n",
    "print(f'Model fitting R2: {fitting}')\n",
    "# evaluate model\n",
    "y_pred = cross_val_predict(model, X, y, cv=cv)\n",
    "r2_score = round(r2(y,y_pred),3)\n",
    "# report performance\n",
    "print(f'LOOCV R2: {r2_score}')\n",
    "\n",
    "# Or with Mean Square Error as metric\n",
    "scoring = \"neg_mean_squared_error\"\n",
    "results = cross_val_score(model, X, y, cv=cv, scoring=scoring)\n",
    "print(); print(\"Mean Squared Error: \", results.mean()); print(\"Standard Deviation: \", results.std())"
   ]
  },
  {
   "cell_type": "code",
   "execution_count": 23,
   "id": "4af48e76",
   "metadata": {},
   "outputs": [
    {
     "data": {
      "text/plain": "array([ 0.1351592 ,  0.69256713, -0.12800706, -1.14617191, -0.92728303])"
     },
     "execution_count": 23,
     "metadata": {},
     "output_type": "execute_result"
    }
   ],
   "source": [
    "scores"
   ]
  },
  {
   "cell_type": "code",
   "execution_count": 57,
   "id": "6b768c72",
   "metadata": {},
   "outputs": [
    {
     "data": {
      "text/plain": "231.0"
     },
     "execution_count": 57,
     "metadata": {},
     "output_type": "execute_result"
    }
   ],
   "source": [
    "##GradientBoostingRegressor"
   ]
  },
  {
   "cell_type": "code",
   "execution_count": 24,
   "id": "24ac8432",
   "metadata": {},
   "outputs": [
    {
     "name": "stdout",
     "output_type": "stream",
     "text": [
      "5Fold crossval R2: -0.449847 (0.516638)\n",
      "[-0.24316703  0.43883453 -0.60184188 -0.79108974 -1.05196973]\n",
      "Model fitting R2: 0.5746384339865007\n",
      "LOOCV R2: -0.17\n",
      "\n",
      "Mean Squared Error:  -5631.683596717837\n",
      "Standard Deviation:  9240.595289474455\n"
     ]
    }
   ],
   "source": [
    "# prepare the cross-validation procedure\n",
    "cv2 = RepeatedKFold(n_splits=5, n_repeats=1, random_state=3)\n",
    "cv = LeaveOneOut()\n",
    "# create model\n",
    "model = GradientBoostingRegressor(random_state=0)\n",
    "# OLD evaluation model\n",
    "scores = cross_val_score(model, X, y, scoring='r2', cv=cv2)\n",
    "print('5Fold crossval R2: %f (%f)' % (np.mean(scores), np.std(scores)))\n",
    "print(scores)\n",
    "# NEW EVALUATION OF MODEL\n",
    "# evaluate model fitting\n",
    "model.fit(X, y)\n",
    "fitting = model.score(X, y, sample_weight=None)\n",
    "print(f'Model fitting R2: {fitting}')\n",
    "# evaluate model\n",
    "y_pred = cross_val_predict(model, X, y, cv=cv)\n",
    "r2_score = round(r2(y,y_pred),3)\n",
    "# report performance\n",
    "print(f'LOOCV R2: {r2_score}')\n",
    "\n",
    "# Or with Mean Square Error as metric\n",
    "scoring = \"neg_mean_squared_error\"\n",
    "results = cross_val_score(model, X, y, cv=cv, scoring=scoring)\n",
    "print(); print(\"Mean Squared Error: \", results.mean()); print(\"Standard Deviation: \", results.std())"
   ]
  },
  {
   "cell_type": "code",
   "execution_count": 36,
   "id": "1bb2bb80",
   "metadata": {},
   "outputs": [],
   "source": [
    "## Random Forest"
   ]
  },
  {
   "cell_type": "code",
   "execution_count": 25,
   "id": "c30ad2df",
   "metadata": {},
   "outputs": [
    {
     "name": "stdout",
     "output_type": "stream",
     "text": [
      "5Fold crossval R2: -0.324534 (0.487462)\n",
      "[-0.0643667   0.36779689 -0.33418133 -0.48250731 -1.10941403]\n",
      "Model fitting R2: 0.5656008176878732\n",
      "LOOCV R2: -0.284\n",
      "\n",
      "Mean Squared Error:  -6178.9759677663305\n",
      "Standard Deviation:  9643.378093641755\n"
     ]
    }
   ],
   "source": [
    "# prepare the cross-validation procedure\n",
    "cv2 = RepeatedKFold(n_splits=5, n_repeats=1, random_state=3)\n",
    "cv = LeaveOneOut()\n",
    "# create model\n",
    "model = RandomForestRegressor(random_state=1)\n",
    "# OLD evaluation model\n",
    "scores = cross_val_score(model, X, y, scoring='r2', cv=cv2)\n",
    "print('5Fold crossval R2: %f (%f)' % (np.mean(scores), np.std(scores)))\n",
    "print(scores)\n",
    "# NEW EVALUATION OF MODEL\n",
    "# evaluate model fitting\n",
    "model.fit(X, y)\n",
    "fitting = model.score(X, y, sample_weight=None)\n",
    "print(f'Model fitting R2: {fitting}')\n",
    "# evaluate model\n",
    "y_pred = cross_val_predict(model, X, y, cv=cv)\n",
    "r2_score = round(r2(y,y_pred),3)\n",
    "# report performance\n",
    "print(f'LOOCV R2: {r2_score}')\n",
    "\n",
    "# Or with Mean Square Error as metric\n",
    "scoring = \"neg_mean_squared_error\"\n",
    "results = cross_val_score(model, X, y, cv=cv, scoring=scoring)\n",
    "print(); print(\"Mean Squared Error: \", results.mean()); print(\"Standard Deviation: \", results.std())"
   ]
  },
  {
   "cell_type": "code",
   "execution_count": 38,
   "id": "cfbfcb19",
   "metadata": {},
   "outputs": [],
   "source": [
    "### XGBoost"
   ]
  },
  {
   "cell_type": "code",
   "execution_count": 26,
   "id": "154fdf16",
   "metadata": {},
   "outputs": [
    {
     "name": "stdout",
     "output_type": "stream",
     "text": [
      "5Fold crossval R2: -0.867931 (0.500118)\n",
      "[-0.70048194  0.01884872 -1.20199831 -1.04737985 -1.40864366]\n",
      "Model fitting R2: 0.5934357725979253\n",
      "LOOCV R2: -0.766\n",
      "\n",
      "Mean Squared Error:  -8500.987929735466\n",
      "Standard Deviation:  14227.486641710988\n"
     ]
    }
   ],
   "source": [
    "# prepare the cross-validation procedure\n",
    "cv2 = RepeatedKFold(n_splits=5, n_repeats=1, random_state=3)\n",
    "cv = LeaveOneOut()\n",
    "# create model\n",
    "model = XGBRegressor()\n",
    "# evaluate model\n",
    "# OLD evaluation model\n",
    "scores = cross_val_score(model, X, y,  cv=cv2)\n",
    "print('5Fold crossval R2: %f (%f)' % (np.mean(scores), np.std(scores)))\n",
    "print(scores)\n",
    "# NEW EVALUATION OF MODEL\n",
    "# evaluate model fitting\n",
    "model.fit(X, y)\n",
    "fitting = model.score(X, y, sample_weight=None)\n",
    "print(f'Model fitting R2: {fitting}')\n",
    "# evaluate model\n",
    "y_pred = cross_val_predict(model, X, y, cv=cv)\n",
    "r2_score = round(r2(y,y_pred),3)\n",
    "# report performance\n",
    "print(f'LOOCV R2: {r2_score}')\n",
    "\n",
    "# Or with Mean Square Error as metric\n",
    "scoring = \"neg_mean_squared_error\"\n",
    "results = cross_val_score(model, X, y, cv=cv, scoring=scoring)\n",
    "print(); print(\"Mean Squared Error: \", results.mean()); print(\"Standard Deviation: \", results.std())"
   ]
  },
  {
   "cell_type": "code",
   "execution_count": null,
   "id": "0f38e585",
   "metadata": {},
   "outputs": [],
   "source": [
    "scores"
   ]
  },
  {
   "cell_type": "code",
   "execution_count": null,
   "id": "bf3bf6f0",
   "metadata": {
    "pycharm": {
     "is_executing": true
    }
   },
   "outputs": [
    {
     "name": "stdout",
     "output_type": "stream",
     "text": [
      "5Fold crossval R2: 0.016280 (0.429384)\n",
      "[ 0.2507975   0.58596453  0.19544345 -0.35984619 -0.59096142]\n",
      "Model fitting R2: 0.5131913439384027\n"
     ]
    }
   ],
   "source": [
    "# prepare the cross-validation procedure\n",
    "cv2 = RepeatedKFold(n_splits=5, n_repeats=1, random_state=3)\n",
    "cv = LeaveOneOut()\n",
    "# create model\n",
    "#reg1 = GradientBoostingRegressor(random_state=1)\n",
    "reg2 = BayesianRidge()\n",
    "reg3 = MLPRegressor(solver='lbfgs', alpha=1e-3, hidden_layer_sizes=(5, 2), random_state=1, max_iter=1000)\n",
    "#reg4 = XGBRegressor()\n",
    "model = VotingRegressor(estimators=[('br', reg2), ('mlpr',reg3)])\n",
    "\n",
    "# OLD evaluation model\n",
    "scores = cross_val_score(model, X, y, scoring='r2', cv=cv2)\n",
    "print('5Fold crossval R2: %f (%f)' % (np.mean(scores), np.std(scores)))\n",
    "print(scores)\n",
    "# NEW EVALUATION OF MODEL\n",
    "# evaluate model fitting\n",
    "model.fit(X, y)\n",
    "fitting = model.score(X, y, sample_weight=None)\n",
    "print(f'Model fitting R2: {fitting}')\n",
    "# evaluate model\n",
    "y_pred = cross_val_predict(model, X, y, cv=cv)\n",
    "r2_score = round(r2(y,y_pred),3)\n",
    "# report performance\n",
    "print(f'LOOCV R2: {r2_score}')\n",
    "\n",
    "# Or with Mean Square Error as metric\n",
    "scoring = \"neg_mean_squared_error\"\n",
    "results = cross_val_score(model, X, y, cv=cv, scoring=scoring)\n",
    "print(); print(\"Mean Squared Error: \", results.mean()); print(\"Standard Deviation: \", results.std())\n"
   ]
  },
  {
   "cell_type": "code",
   "execution_count": null,
   "id": "b8fcb50c",
   "metadata": {},
   "outputs": [],
   "source": [
    "scores"
   ]
  },
  {
   "cell_type": "code",
   "execution_count": null,
   "id": "ff7525ff",
   "metadata": {},
   "outputs": [],
   "source": []
  }
 ],
 "metadata": {
  "kernelspec": {
   "display_name": "Python 3 (ipykernel)",
   "language": "python",
   "name": "python3"
  },
  "language_info": {
   "codemirror_mode": {
    "name": "ipython",
    "version": 3
   },
   "file_extension": ".py",
   "mimetype": "text/x-python",
   "name": "python",
   "nbconvert_exporter": "python",
   "pygments_lexer": "ipython3",
   "version": "3.8.12"
  }
 },
 "nbformat": 4,
 "nbformat_minor": 5
}