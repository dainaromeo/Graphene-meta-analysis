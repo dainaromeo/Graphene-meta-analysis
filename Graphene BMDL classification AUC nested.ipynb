{
 "cells": [
  {
   "cell_type": "code",
   "execution_count": 1,
   "metadata": {
    "pycharm": {
     "name": "#%%\n"
    }
   },
   "outputs": [],
   "source": [
    "import pandas as pd\n",
    "import numpy as np\n",
    "import matplotlib\n",
    "import matplotlib.pyplot as plt\n",
    "import matplotlib.cm as cm\n",
    "from sklearn.tree import DecisionTreeClassifier\n",
    "from sklearn.ensemble import RandomForestClassifier\n",
    "from sklearn.preprocessing import MinMaxScaler\n",
    "from sklearn.svm import SVC\n",
    "from sklearn.model_selection import LeaveOneOut\n",
    "from sklearn.pipeline import Pipeline\n",
    "from sklearn.model_selection import cross_val_score\n",
    "from sklearn.model_selection import GridSearchCV\n",
    "import seaborn as sns\n",
    "from sklearn.tree import export_graphviz\n",
    "import sklearn.metrics as metrics\n",
    "from sklearn.feature_selection import SequentialFeatureSelector, RFECV\n",
    "import re\n",
    "from graphviz import render\n",
    "from  sklearn.metrics import precision_recall_fscore_support\n",
    "from sklearn.metrics import roc_curve, auc\n",
    "from sklearn.preprocessing import LabelBinarizer\n",
    "from scipy import interpolate\n",
    "from sklearn.metrics import accuracy_score\n",
    "from matplotlib.ticker import FormatStrFormatter\n",
    "\n",
    "from matplotlib.colors import LinearSegmentedColormap\n",
    "\n",
    "matplotlib.style.use('ggplot')"
   ]
  },
  {
   "cell_type": "code",
   "execution_count": 2,
   "metadata": {
    "pycharm": {
     "name": "#%%\n"
    }
   },
   "outputs": [],
   "source": [
    "# function to remove assays and medias with less than 4 occurrences\n",
    "\n",
    "def agg_size_nosort(df):\n",
    "    counts_assay = df.groupby(\"assay\", sort=False)[\"assay\"].transform('size')\n",
    "    counts_media = df.groupby(\"media\", sort=False)[\"media\"].transform('size')\n",
    "    mask = (counts_assay > 3) & (counts_media > 3)\n",
    "    return df[mask]\n",
    "\n",
    "# function to plot data in bins\n",
    "def plot_bar_bin(series, bins, img_name):\n",
    "    '''\n",
    "    plot an histogram with ranges of data as columns\n",
    "    :param series: series of the feature to plot\n",
    "    :param bins: a list with the limit values of the bins\n",
    "    :param img_name: name of the saved figure\n",
    "    :return: histogram of data points in each bin\n",
    "    '''\n",
    "    # general bar plots with 6 bins\n",
    "    to_plot = series.dropna(axis=0)\n",
    "    color = cm.rainbow(np.linspace(0, 1, len(bins) - 1))\n",
    "    fig, ax = plt.subplots()\n",
    "    hist, bin_edges = np.histogram(to_plot, bins)\n",
    "    ax.set_ylim(0, 50)\n",
    "    #ax.yaxis.set_major_locator(MaxNLocator(integer=True))\n",
    "    ax.set_ylabel('Number of data points')\n",
    "    ax.set_xlabel('BMDL range [ug/mL]')\n",
    "    rec = ax.bar(range(len(hist)), hist, width=0.8, align='center', tick_label=\n",
    "    ['{} - {}'.format(bins[i], bins[i + 1]) for i, j in enumerate(hist)], color=color)\n",
    "    plt.xticks(rotation=45)\n",
    "    autolabel(rec, ax)\n",
    "    plt.tight_layout()\n",
    "    plt.savefig(f'{img_name}.png')\n",
    "    plt.show()\n",
    "\n",
    "def autolabel(rects, ax):\n",
    "    \"\"\"\n",
    "    Attach a text label above each bar displaying its height\n",
    "    \"\"\"\n",
    "    for rect in rects:\n",
    "        height = rect.get_height()\n",
    "        ax.text(rect.get_x() + rect.get_width() / 2., 1.05 * height,\n",
    "               s= '%d' % int(height),\n",
    "                ha='center', va='bottom')\n",
    "\n",
    "\n",
    "#Function to print positive feature importance based on the Linear SVC coefficients, per class\n",
    "\n",
    "def print_top10(feature_names, clf, x_name, class_labels):\n",
    "    \"\"\"Prints features with the highest coefficient values, per class\"\"\"\n",
    "    for i, class_label in enumerate(class_labels):\n",
    "        coeff = clf.coef_[i]\n",
    "        ordered_coef = [x for x,_ in sorted(zip(coeff,feature_names), key=lambda sublist: abs(sublist[0]))[::-1]]\n",
    "        ordered_names = [y for _,y in sorted(zip(coeff,feature_names), key=lambda sublist: abs(sublist[0]))[::-1]]\n",
    "        ordered_coef_pos = [x for x in ordered_coef[0:10]]\n",
    "        ordered_names_pos = ordered_names[:len(ordered_coef_pos)]\n",
    "\n",
    "        fig, ax = plt.subplots()\n",
    "        plt.barh(range(len(ordered_names_pos)), ordered_coef_pos[::-1], align='center')\n",
    "        plt.yticks(range(len(ordered_names_pos)), ordered_names_pos[::-1])\n",
    "        plt.axvline(0)\n",
    "        plt.text(0,-1.5,'0.0', size=12)\n",
    "        ax.set_xticklabels([])\n",
    "        plt.title(f'Feature importance for class {class_label}', fontsize=14)\n",
    "        plt.tight_layout()\n",
    "        plt.savefig(f'Graphene//New_plots//BMDL LinearSVC viab 3class coeff2 {x_name} {i}.pdf')\n",
    "        plt.show()\n",
    "\n",
    "\n",
    "# Function to plot confusion matrix\n",
    "\n",
    "def confusion_matrix(matrix, tick_names, file_name, data_set_name):\n",
    "        # Plot confusion matrix\n",
    "        figure = plt.figure()\n",
    "        ax = plt.subplot()\n",
    "        cmap2 = LinearSegmentedColormap.from_list('', ['#aaddee', '#000077'])\n",
    "        im = ax.imshow(matrix, cmap=cmap2, interpolation='nearest')\n",
    "        #tick_marks = [0,1,2,3]\n",
    "        tick_marks=[0, 1, 2]\n",
    "        ax.xaxis.tick_top()\n",
    "        ax.yaxis.set_label_position(\"right\")\n",
    "        ax.set_xticks(tick_marks)\n",
    "        ax.set_xticklabels(tick_names)\n",
    "        ax.set_xlabel('Predicted')\n",
    "        ax.set_ylabel('True')\n",
    "        plt.setp(ax.get_xticklabels(),  fontsize=12)\n",
    "        ax.set_yticks(tick_marks)\n",
    "        ax.set_yticklabels(tick_names)\n",
    "        plt.setp(ax.get_yticklabels(), fontsize=12, rotation=90,ha='center', rotation_mode='anchor' )\n",
    "        #ax.set_ylim(-0.0005, 2.5)\n",
    "        # change font color to white to be visible against darkest colors\n",
    "        for (i, j), z in np.ndenumerate(matrix):\n",
    "            if z > 8:\n",
    "                fontcolor = 'white'\n",
    "            else:\n",
    "                fontcolor = 'black'\n",
    "            ax.text(j, i, str(int(z)), ha='center', va='center', color= fontcolor, size=12)\n",
    "        fig.colorbar(im, ax=ax)\n",
    "        ax.grid(None)\n",
    "        plt.tight_layout()\n",
    "        plt.savefig(f'{file_name}_{data_set_name}.pdf', dpi=400)\n",
    "        plt.savefig(f'{file_name}_{data_set_name}.png', dpi=400)\n",
    "        plt.show()\n",
    "\n",
    "def class_report(y_true, y_pred, y_score=None, average='micro'):\n",
    "    if y_true.shape != y_pred.shape:\n",
    "        print(\"Error! y_true %s is not the same shape as y_pred %s\" % (\n",
    "              y_true.shape,\n",
    "              y_pred.shape)\n",
    "        )\n",
    "        return\n",
    "\n",
    "    lb = LabelBinarizer()\n",
    "\n",
    "    if len(y_true.shape) == 1:\n",
    "        lb.fit(y_true)\n",
    "\n",
    "    #Value counts of predictions\n",
    "    labels, cnt = np.unique(\n",
    "        y_pred,\n",
    "        return_counts=True)\n",
    "    n_classes = len(labels)\n",
    "    pred_cnt = pd.Series(cnt, index=labels)\n",
    "\n",
    "    metrics_summary = precision_recall_fscore_support(\n",
    "            y_true=y_true,\n",
    "            y_pred=y_pred,\n",
    "            labels=labels)\n",
    "\n",
    "    avg = list(precision_recall_fscore_support(\n",
    "            y_true=y_true,\n",
    "            y_pred=y_pred,\n",
    "            average='weighted'))\n",
    "\n",
    "    metrics_sum_index = ['precision', 'recall', 'f1-score', 'support']\n",
    "    class_report_df = pd.DataFrame(\n",
    "        list(metrics_summary),\n",
    "        index=metrics_sum_index,\n",
    "        columns=labels)\n",
    "\n",
    "    support = class_report_df.loc['support']\n",
    "    total = support.sum()\n",
    "    class_report_df['avg / total'] = avg[:-1] + [total]\n",
    "\n",
    "    class_report_df = class_report_df.T\n",
    "    class_report_df['pred'] = pred_cnt\n",
    "    class_report_df['pred'].iloc[-1] = total\n",
    "\n",
    "    if not (y_score is None):\n",
    "        fpr = dict()\n",
    "        tpr = dict()\n",
    "        roc_auc = dict()\n",
    "        for label_it, label in enumerate(labels):\n",
    "            fpr[label], tpr[label], _ = roc_curve(\n",
    "                (y_true == label).astype(int),\n",
    "                y_score[:, label_it])\n",
    "\n",
    "            roc_auc[label] = auc(fpr[label], tpr[label])\n",
    "\n",
    "        if average == 'micro':\n",
    "            if n_classes <= 2:\n",
    "                fpr[\"avg / total\"], tpr[\"avg / total\"], _ = roc_curve(\n",
    "                    lb.transform(y_true).ravel(),\n",
    "                    y_score[:, 1].ravel())\n",
    "            else:\n",
    "                fpr[\"avg / total\"], tpr[\"avg / total\"], _ = roc_curve(\n",
    "                        lb.transform(y_true).ravel(),\n",
    "                        y_score.ravel())\n",
    "\n",
    "            roc_auc[\"avg / total\"] = auc(\n",
    "                fpr[\"avg / total\"],\n",
    "                tpr[\"avg / total\"])\n",
    "\n",
    "        elif average == 'macro':\n",
    "            # First aggregate all false positive rates\n",
    "            all_fpr = np.unique(np.concatenate([\n",
    "                fpr[i] for i in labels]\n",
    "            ))\n",
    "\n",
    "            # Then interpolate all ROC curves at this points\n",
    "            mean_tpr = np.zeros_like(all_fpr)\n",
    "            for i in labels:\n",
    "                mean_tpr += interpolate(all_fpr, fpr[i], tpr[i])\n",
    "\n",
    "            # Finally average it and compute AUC\n",
    "            mean_tpr /= n_classes\n",
    "\n",
    "            fpr[\"macro\"] = all_fpr\n",
    "            tpr[\"macro\"] = mean_tpr\n",
    "\n",
    "            roc_auc[\"avg / total\"] = auc(fpr[\"macro\"], tpr[\"macro\"])\n",
    "\n",
    "        class_report_df['AUC'] = pd.Series(roc_auc)\n",
    "\n",
    "    return class_report_df\n",
    "\n",
    "def specificity(conf):\n",
    "    #row 1\n",
    "    tn = conf[1,1] + conf[1,2] + conf[2,1] + conf[2,2]\n",
    "    fp = conf[2,0] + conf[1,0]\n",
    "    print(f'specificity first row = {tn/(tn+fp)}')\n",
    "    #row 2\n",
    "    tn = conf[2,0] + conf[2,2] + conf[0,0] + conf[0,2]\n",
    "    fp = conf[2,1] + conf[0,1]\n",
    "    print(f'specificity second row = {tn/(tn+fp)}')\n",
    "    #row 3\n",
    "    tn = conf[0,0] + conf[0,1] + conf[1,0] + conf[1,1]\n",
    "    fp = conf[0,2] + conf[1,2]\n",
    "    print(f'specificity third row = {tn/(tn+fp)}')\n"
   ]
  },
  {
   "cell_type": "code",
   "execution_count": 3,
   "metadata": {
    "pycharm": {
     "name": "#%%\n"
    }
   },
   "outputs": [
    {
     "data": {
      "text/plain": "              BMD        BMDL         BMDH       bmd_id          ID  \\\ncount   94.000000   94.000000    94.000000    94.000000   94.000000   \nmean    85.151612   64.963161   114.943479  5475.553191  404.148936   \nstd    105.383795   71.790466   162.108284  1792.218902  239.524841   \nmin      0.083870    0.021400     0.088000  1018.000000    1.000000   \n25%     17.637500   12.925000    23.300000  5031.750000  215.500000   \n50%     42.565000   31.900000    52.100000  6077.500000  403.000000   \n75%    121.875000  111.500000   140.750000  6138.750000  631.000000   \nmax    539.500000  274.000000  1040.000000  9057.000000  787.000000   \n\n       media_viscosity  media_density  media_temperature      layer  \\\ncount        15.000000      15.000000               94.0  74.000000   \nmean          0.001196       1.027368               37.0   2.398649   \nstd           0.000085       0.004694                0.0   1.947917   \nmin           0.000890       1.010400               37.0   1.000000   \n25%           0.001217       1.028580               37.0   1.000000   \n50%           0.001217       1.028580               37.0   1.500000   \n75%           0.001217       1.028580               37.0   3.500000   \nmax           0.001217       1.028580               37.0   8.000000   \n\n           z_pot        time   BMD_range  \ncount  74.000000   94.000000   94.000000  \nmean  -21.165757   37.978723   49.980318  \nstd    20.714600   50.728876  111.790778  \nmin   -76.000000    2.000000    0.008100  \n25%   -37.225000   24.000000    3.375000  \n50%   -11.370000   24.000000   11.500000  \n75%    -6.900000   48.000000   34.000000  \nmax     0.036000  240.000000  845.000000  ",
      "text/html": "<div>\n<style scoped>\n    .dataframe tbody tr th:only-of-type {\n        vertical-align: middle;\n    }\n\n    .dataframe tbody tr th {\n        vertical-align: top;\n    }\n\n    .dataframe thead th {\n        text-align: right;\n    }\n</style>\n<table border=\"1\" class=\"dataframe\">\n  <thead>\n    <tr style=\"text-align: right;\">\n      <th></th>\n      <th>BMD</th>\n      <th>BMDL</th>\n      <th>BMDH</th>\n      <th>bmd_id</th>\n      <th>ID</th>\n      <th>media_viscosity</th>\n      <th>media_density</th>\n      <th>media_temperature</th>\n      <th>layer</th>\n      <th>z_pot</th>\n      <th>time</th>\n      <th>BMD_range</th>\n    </tr>\n  </thead>\n  <tbody>\n    <tr>\n      <th>count</th>\n      <td>94.000000</td>\n      <td>94.000000</td>\n      <td>94.000000</td>\n      <td>94.000000</td>\n      <td>94.000000</td>\n      <td>15.000000</td>\n      <td>15.000000</td>\n      <td>94.0</td>\n      <td>74.000000</td>\n      <td>74.000000</td>\n      <td>94.000000</td>\n      <td>94.000000</td>\n    </tr>\n    <tr>\n      <th>mean</th>\n      <td>85.151612</td>\n      <td>64.963161</td>\n      <td>114.943479</td>\n      <td>5475.553191</td>\n      <td>404.148936</td>\n      <td>0.001196</td>\n      <td>1.027368</td>\n      <td>37.0</td>\n      <td>2.398649</td>\n      <td>-21.165757</td>\n      <td>37.978723</td>\n      <td>49.980318</td>\n    </tr>\n    <tr>\n      <th>std</th>\n      <td>105.383795</td>\n      <td>71.790466</td>\n      <td>162.108284</td>\n      <td>1792.218902</td>\n      <td>239.524841</td>\n      <td>0.000085</td>\n      <td>0.004694</td>\n      <td>0.0</td>\n      <td>1.947917</td>\n      <td>20.714600</td>\n      <td>50.728876</td>\n      <td>111.790778</td>\n    </tr>\n    <tr>\n      <th>min</th>\n      <td>0.083870</td>\n      <td>0.021400</td>\n      <td>0.088000</td>\n      <td>1018.000000</td>\n      <td>1.000000</td>\n      <td>0.000890</td>\n      <td>1.010400</td>\n      <td>37.0</td>\n      <td>1.000000</td>\n      <td>-76.000000</td>\n      <td>2.000000</td>\n      <td>0.008100</td>\n    </tr>\n    <tr>\n      <th>25%</th>\n      <td>17.637500</td>\n      <td>12.925000</td>\n      <td>23.300000</td>\n      <td>5031.750000</td>\n      <td>215.500000</td>\n      <td>0.001217</td>\n      <td>1.028580</td>\n      <td>37.0</td>\n      <td>1.000000</td>\n      <td>-37.225000</td>\n      <td>24.000000</td>\n      <td>3.375000</td>\n    </tr>\n    <tr>\n      <th>50%</th>\n      <td>42.565000</td>\n      <td>31.900000</td>\n      <td>52.100000</td>\n      <td>6077.500000</td>\n      <td>403.000000</td>\n      <td>0.001217</td>\n      <td>1.028580</td>\n      <td>37.0</td>\n      <td>1.500000</td>\n      <td>-11.370000</td>\n      <td>24.000000</td>\n      <td>11.500000</td>\n    </tr>\n    <tr>\n      <th>75%</th>\n      <td>121.875000</td>\n      <td>111.500000</td>\n      <td>140.750000</td>\n      <td>6138.750000</td>\n      <td>631.000000</td>\n      <td>0.001217</td>\n      <td>1.028580</td>\n      <td>37.0</td>\n      <td>3.500000</td>\n      <td>-6.900000</td>\n      <td>48.000000</td>\n      <td>34.000000</td>\n    </tr>\n    <tr>\n      <th>max</th>\n      <td>539.500000</td>\n      <td>274.000000</td>\n      <td>1040.000000</td>\n      <td>9057.000000</td>\n      <td>787.000000</td>\n      <td>0.001217</td>\n      <td>1.028580</td>\n      <td>37.0</td>\n      <td>8.000000</td>\n      <td>0.036000</td>\n      <td>240.000000</td>\n      <td>845.000000</td>\n    </tr>\n  </tbody>\n</table>\n</div>"
     },
     "execution_count": 3,
     "metadata": {},
     "output_type": "execute_result"
    }
   ],
   "source": [
    "################################\n",
    "#   LOADING DATA\n",
    "#################################\n",
    "df_v = pd.read_csv('Graphene/Graphene_BMD_UPDATED_no_outliers.csv')\n",
    "df_v.describe()\n",
    "\n"
   ]
  },
  {
   "cell_type": "code",
   "execution_count": 5,
   "outputs": [
    {
     "name": "stdout",
     "output_type": "stream",
     "text": [
      "Before removing less than 4 assay and media, size = 76\n",
      "After removing less than 4 assay and media, size = 76\n"
     ]
    }
   ],
   "source": [
    "################################\n",
    "#   PREPARING DATA FOR ANALYSIS\n",
    "#################################\n",
    "\n",
    "df_v[['new_name', 'species']] = df_v[['new_name', 'species']].applymap(lambda x: x.strip())\n",
    "df_v['func'] = df_v['func'].fillna(0)\n",
    "\n",
    "# keep only alpah numeric characters in media column\n",
    "df_v['media'] = df_v['media'].apply(lambda row: re.sub(r'\\W+', '', row))\n",
    "\n",
    "df_v['assay'] = df_v['assay'].apply(lambda row: row.replace('viability_', ''))\n",
    "\n",
    "print(f'Before removing less than 4 assay and media, size = {len(df_v)}')\n",
    "\n",
    "df_v = agg_size_nosort(df_v)\n",
    "print(f'After removing less than 4 assay and media, size = {len(df_v)}')\n"
   ],
   "metadata": {
    "collapsed": false,
    "pycharm": {
     "name": "#%%\n"
    }
   }
  },
  {
   "cell_type": "code",
   "execution_count": null,
   "outputs": [],
   "source": [],
   "metadata": {
    "collapsed": false,
    "pycharm": {
     "name": "#%%\n"
    }
   }
  },
  {
   "cell_type": "code",
   "execution_count": 12,
   "outputs": [
    {
     "data": {
      "text/plain": "[1.0    29\n 0.0    24\n 2.0    23\n Name: BMDL_class, dtype: int64,\n Graphene oxide    43\n rGO               22\n Graphene          11\n Name: Substance, dtype: int64,\n S    56\n M    11\n L     9\n Name: size_class, dtype: int64,\n 24     32\n 48     19\n 6      14\n 240     5\n 3       4\n 72      2\n Name: time, dtype: int64,\n BEAS- 2B    32\n A549        27\n THP-1       12\n J774.A1      5\n Name: cell_type, dtype: int64,\n mtt        45\n wst         8\n ldh         8\n cfa         5\n ez_cyto     5\n pi          5\n Name: assay, dtype: int64,\n 0           53\n Fe3O4       10\n hydrated     4\n NH2          3\n COOH         2\n PEG          2\n PAM          1\n PAA          1\n Name: func, dtype: int64,\n 1.0    23\n 3.5    18\n 1.5    12\n 8.0     4\n 6.0     2\n 2.0     2\n Name: layer, dtype: int64,\n -6.900     10\n -13.700     9\n -9.460      8\n -11.370     4\n  0.036      1\n -73.000     1\n -5.500      1\n -7.500      1\n -51.700     1\n -18.500     1\n -76.000     1\n -64.000     1\n -68.000     1\n -37.000     1\n -63.000     1\n -56.000     1\n -52.000     1\n -51.000     1\n -44.000     1\n -44.500     1\n -5.800      1\n -7.900      1\n -39.600     1\n -37.300     1\n -14.700     1\n -36.200     1\n -8.700      1\n -0.064      1\n -4.600      1\n -6.400      1\n -7.400      1\n -46.900     1\n -32.400     1\n -2.600      1\n -44.400     1\n -16.700     1\n -5.700      1\n -40.000     1\n Name: z_pot, dtype: int64,\n RPMI10FBS       37\n DMEMF1210FBS    16\n F1210FBS        14\n DMEM10FBS        5\n BEGM10FBS        4\n Name: media, dtype: int64,\n epithelial_human     59\n macrophage_human     12\n macrophage_rodent     5\n Name: cell_species, dtype: int64,\n epithelial    59\n macrophage    17\n Name: cell_type_general, dtype: int64,\n human     71\n rodent     5\n Name: species, dtype: int64]"
     },
     "execution_count": 12,
     "metadata": {},
     "output_type": "execute_result"
    }
   ],
   "source": [
    "report"
   ],
   "metadata": {
    "collapsed": false,
    "pycharm": {
     "name": "#%%\n"
    }
   }
  },
  {
   "cell_type": "code",
   "execution_count": null,
   "metadata": {
    "pycharm": {
     "name": "#%%\n"
    }
   },
   "outputs": [],
   "source": [
    "############################################\n",
    "## SUPERVISED CLASSIFICATION\n",
    "############################################"
   ]
  },
  {
   "cell_type": "code",
   "execution_count": 8,
   "metadata": {
    "pycharm": {
     "name": "#%%\n"
    }
   },
   "outputs": [
    {
     "data": {
      "text/plain": "<Figure size 432x288 with 1 Axes>",
      "image/png": "[encoded data removed]"
     },
     "metadata": {},
     "output_type": "display_data"
    }
   ],
   "source": [
    "bins = [0, 5, 10, 15, 30, 50, 70, 100, 120, 140, 260]\n",
    "plot_bar_bin(df_v['BMDL'], bins, 'BMDL distribution - viability')"
   ]
  },
  {
   "cell_type": "code",
   "execution_count": 9,
   "metadata": {
    "pycharm": {
     "name": "#%%\n"
    }
   },
   "outputs": [
    {
     "data": {
      "text/plain": "<Figure size 432x288 with 1 Axes>",
      "image/png": "[encoded data removed]"
     },
     "metadata": {},
     "output_type": "display_data"
    }
   ],
   "source": [
    "# Define BMDL classes\n",
    "df_v['BMDL_class'] = np.nan\n",
    "\n",
    "# 4 classes\n",
    "'''\n",
    "df_v.loc[df_v.BMDL < 15, 'BMDL_class'] = 0\n",
    "df_v.loc[(df_v.BMDL >= 15) & (df_v.BMDL < 35), 'BMDL_class'] = 1\n",
    "df_v.loc[(df_v.BMDL >= 35) & (df_v.BMDL < 100), 'BMDL_class'] = 2\n",
    "df_v.loc[df_v.BMDL >= 100, 'BMDL_class'] = 3\n",
    "'''\n",
    "# 3 classes\n",
    "df_v.loc[df_v.BMDL < 15, 'BMDL_class'] = 0\n",
    "df_v.loc[(df_v.BMDL >= 15) & (df_v.BMDL < 60), 'BMDL_class'] = 1\n",
    "df_v.loc[df_v.BMDL >= 60, 'BMDL_class'] = 2\n",
    "\n",
    "# Plot distribution of data in the classes\n",
    "fig = plt.figure()\n",
    "plt.hist(df_v.BMDL_class)\n",
    "plt.show()"
   ]
  },
  {
   "cell_type": "code",
   "execution_count": 13,
   "outputs": [
    {
     "data": {
      "text/plain": "<Figure size 432x288 with 1 Axes>",
      "image/png": "[encoded data removed]"
     },
     "metadata": {},
     "output_type": "display_data"
    }
   ],
   "source": [
    "# Data set 1\n",
    "\n",
    "sc = df_v[['BMDL_class', 'Substance', 'size_class', 'time', 'cell_type', 'assay','func', 'layer', 'z_pot', 'media',\n",
    "           'cell_species','cell_type_general', 'species']].copy()\n",
    "report = []\n",
    "for colname in sc.columns:\n",
    "    report.append(sc[colname].value_counts())\n",
    "with open(\"report_occurrencies.txt\", 'w') as output:\n",
    "    for row in report:\n",
    "        output.write(str(row) + '\\n')\n",
    "description = sc.describe()\n",
    "description.to_csv('Report_data_set_description.csv')\n",
    "\n",
    "sc.dropna(axis=0, inplace=True)\n",
    "sc.reset_index(drop=True, inplace=True)\n",
    "# categorical variables encoding\n",
    "enc_size = {'S':1, 'M':2, 'L':3}\n",
    "sc['size_class'] = sc['size_class'].apply(lambda row: enc_size[row])\n",
    "sc = pd.get_dummies(sc, columns=['Substance',  'cell_type', 'cell_species', 'cell_type_general', 'species' , 'assay',\n",
    "                                 'media', 'func'], drop_first=True)\n",
    "\n",
    "y_1 = sc['BMDL_class']\n",
    "x_source_1 = sc.drop(labels='BMDL_class', axis=1)\n",
    "\n",
    "# plot distribution of dependent variable\n",
    "fig = plt.figure()\n",
    "plt.hist(y_1)\n",
    "plt.show()\n"
   ],
   "metadata": {
    "collapsed": false,
    "pycharm": {
     "name": "#%%\n"
    }
   }
  },
  {
   "cell_type": "code",
   "execution_count": 112,
   "outputs": [
    {
     "data": {
      "text/plain": "                              analysis       BMD     BMDL    BMDH  bmd_id  \\\n0  Graphene_4070_dose_viability_pi.txt  59.93000  51.8000  68.400    4070   \n2           Graphene_2013_dose_cfa.txt   0.08387   0.0799   0.088    2013   \n3           Graphene_2014_dose_cfa.txt  10.00000   9.8000  10.200    2014   \n4           Graphene_2015_dose_cfa.txt   0.55740   0.5260   0.589    2015   \n5           Graphene_2016_dose_cfa.txt   0.23030   0.2240   0.237    2016   \n\n    ID         author_year                                       link  \\\n0  358  Mittal et all 2016  https://www.nature.com/articles/srep39548   \n2   95     Chaterje N 2015  https://pubmed.ncbi.nlm.nih.gov/26602558/   \n3  101     Chaterje N 2015  https://pubmed.ncbi.nlm.nih.gov/26602558/   \n4  102     Chaterje N 2015  https://pubmed.ncbi.nlm.nih.gov/26602558/   \n5   98     Chaterje N 2015  https://pubmed.ncbi.nlm.nih.gov/26602558/   \n\n        Substance                     type  ... time cell_type  \\\n0  Graphene oxide                       GO  ...   24      A549   \n2        Graphene                     GNPs  ...  240  BEAS- 2B   \n3  Graphene oxide         GO Single layer   ...  240  BEAS- 2B   \n4  Graphene oxide           GO few layers   ...  240  BEAS- 2B   \n5        Graphene  GNPs NH2 functionalised  ...  240  BEAS- 2B   \n\n  cell_type_general  species  endotox  assay        new_name BMD_range  \\\n0        epithelial    human       NO     pi  Graphene oxide   16.6000   \n2        epithelial    human      NaN    cfa        Graphene    0.0081   \n3        epithelial    human      NaN    cfa  Graphene oxide    0.4000   \n4        epithelial    human      NaN    cfa  Graphene oxide    0.0630   \n5        epithelial    human      NaN    cfa    Graphene NH2    0.0130   \n\n       cell_species BMDL_class  \n0  epithelial_human        1.0  \n2  epithelial_human        0.0  \n3  epithelial_human        0.0  \n4  epithelial_human        0.0  \n5  epithelial_human        0.0  \n\n[5 rows x 37 columns]",
      "text/html": "<div>\n<style scoped>\n    .dataframe tbody tr th:only-of-type {\n        vertical-align: middle;\n    }\n\n    .dataframe tbody tr th {\n        vertical-align: top;\n    }\n\n    .dataframe thead th {\n        text-align: right;\n    }\n</style>\n<table border=\"1\" class=\"dataframe\">\n  <thead>\n    <tr style=\"text-align: right;\">\n      <th></th>\n      <th>analysis</th>\n      <th>BMD</th>\n      <th>BMDL</th>\n      <th>BMDH</th>\n      <th>bmd_id</th>\n      <th>ID</th>\n      <th>author_year</th>\n      <th>link</th>\n      <th>Substance</th>\n      <th>type</th>\n      <th>...</th>\n      <th>time</th>\n      <th>cell_type</th>\n      <th>cell_type_general</th>\n      <th>species</th>\n      <th>endotox</th>\n      <th>assay</th>\n      <th>new_name</th>\n      <th>BMD_range</th>\n      <th>cell_species</th>\n      <th>BMDL_class</th>\n    </tr>\n  </thead>\n  <tbody>\n    <tr>\n      <th>0</th>\n      <td>Graphene_4070_dose_viability_pi.txt</td>\n      <td>59.93000</td>\n      <td>51.8000</td>\n      <td>68.400</td>\n      <td>4070</td>\n      <td>358</td>\n      <td>Mittal et all 2016</td>\n      <td>https://www.nature.com/articles/srep39548</td>\n      <td>Graphene oxide</td>\n      <td>GO</td>\n      <td>...</td>\n      <td>24</td>\n      <td>A549</td>\n      <td>epithelial</td>\n      <td>human</td>\n      <td>NO</td>\n      <td>pi</td>\n      <td>Graphene oxide</td>\n      <td>16.6000</td>\n      <td>epithelial_human</td>\n      <td>1.0</td>\n    </tr>\n    <tr>\n      <th>2</th>\n      <td>Graphene_2013_dose_cfa.txt</td>\n      <td>0.08387</td>\n      <td>0.0799</td>\n      <td>0.088</td>\n      <td>2013</td>\n      <td>95</td>\n      <td>Chaterje N 2015</td>\n      <td>https://pubmed.ncbi.nlm.nih.gov/26602558/</td>\n      <td>Graphene</td>\n      <td>GNPs</td>\n      <td>...</td>\n      <td>240</td>\n      <td>BEAS- 2B</td>\n      <td>epithelial</td>\n      <td>human</td>\n      <td>NaN</td>\n      <td>cfa</td>\n      <td>Graphene</td>\n      <td>0.0081</td>\n      <td>epithelial_human</td>\n      <td>0.0</td>\n    </tr>\n    <tr>\n      <th>3</th>\n      <td>Graphene_2014_dose_cfa.txt</td>\n      <td>10.00000</td>\n      <td>9.8000</td>\n      <td>10.200</td>\n      <td>2014</td>\n      <td>101</td>\n      <td>Chaterje N 2015</td>\n      <td>https://pubmed.ncbi.nlm.nih.gov/26602558/</td>\n      <td>Graphene oxide</td>\n      <td>GO Single layer</td>\n      <td>...</td>\n      <td>240</td>\n      <td>BEAS- 2B</td>\n      <td>epithelial</td>\n      <td>human</td>\n      <td>NaN</td>\n      <td>cfa</td>\n      <td>Graphene oxide</td>\n      <td>0.4000</td>\n      <td>epithelial_human</td>\n      <td>0.0</td>\n    </tr>\n    <tr>\n      <th>4</th>\n      <td>Graphene_2015_dose_cfa.txt</td>\n      <td>0.55740</td>\n      <td>0.5260</td>\n      <td>0.589</td>\n      <td>2015</td>\n      <td>102</td>\n      <td>Chaterje N 2015</td>\n      <td>https://pubmed.ncbi.nlm.nih.gov/26602558/</td>\n      <td>Graphene oxide</td>\n      <td>GO few layers</td>\n      <td>...</td>\n      <td>240</td>\n      <td>BEAS- 2B</td>\n      <td>epithelial</td>\n      <td>human</td>\n      <td>NaN</td>\n      <td>cfa</td>\n      <td>Graphene oxide</td>\n      <td>0.0630</td>\n      <td>epithelial_human</td>\n      <td>0.0</td>\n    </tr>\n    <tr>\n      <th>5</th>\n      <td>Graphene_2016_dose_cfa.txt</td>\n      <td>0.23030</td>\n      <td>0.2240</td>\n      <td>0.237</td>\n      <td>2016</td>\n      <td>98</td>\n      <td>Chaterje N 2015</td>\n      <td>https://pubmed.ncbi.nlm.nih.gov/26602558/</td>\n      <td>Graphene</td>\n      <td>GNPs NH2 functionalised</td>\n      <td>...</td>\n      <td>240</td>\n      <td>BEAS- 2B</td>\n      <td>epithelial</td>\n      <td>human</td>\n      <td>NaN</td>\n      <td>cfa</td>\n      <td>Graphene NH2</td>\n      <td>0.0130</td>\n      <td>epithelial_human</td>\n      <td>0.0</td>\n    </tr>\n  </tbody>\n</table>\n<p>5 rows × 37 columns</p>\n</div>"
     },
     "execution_count": 112,
     "metadata": {},
     "output_type": "execute_result"
    }
   ],
   "source": [
    "sc.describe()"
   ],
   "metadata": {
    "collapsed": false,
    "pycharm": {
     "name": "#%%\n"
    }
   }
  },
  {
   "cell_type": "code",
   "execution_count": 104,
   "metadata": {
    "pycharm": {
     "name": "#%%\n"
    }
   },
   "outputs": [
    {
     "data": {
      "text/plain": "<Figure size 432x288 with 1 Axes>",
      "image/png": "[encoded data removed]"
     },
     "metadata": {},
     "output_type": "display_data"
    }
   ],
   "source": [
    "# Data set 2\n",
    "\n",
    "sc2 = df_v[['BMDL_class', 'Substance', 'size_class', 'time', 'cell_type', 'assay','func',  'cell_species', 'media',\n",
    "            'cell_type_general', 'species']].copy()\n",
    "\n",
    "enc_size = {'S':1, 'M':2, 'L':3}\n",
    "sc2.dropna(axis=0, inplace=True)\n",
    "sc2.reset_index(drop=True, inplace=True)\n",
    "# categorical variables encoding\n",
    "sc2['size_class'] = sc2['size_class'].apply(lambda row: enc_size[row])\n",
    "sc2 = pd.get_dummies(sc2, columns=['Substance',  'cell_type', 'cell_species', 'cell_type_general', 'species' , 'assay',\n",
    "                                   'func', 'media'], drop_first=True)\n",
    "\n",
    "y_big = sc2['BMDL_class']\n",
    "x_source_big = sc2.drop(labels='BMDL_class', axis=1)\n",
    "\n",
    "fig = plt.figure()\n",
    "plt.hist(y_big)\n",
    "plt.show()"
   ]
  },
  {
   "cell_type": "code",
   "execution_count": 105,
   "metadata": {
    "pycharm": {
     "name": "#%%\n"
    }
   },
   "outputs": [
    {
     "data": {
      "text/plain": "<Figure size 432x288 with 1 Axes>",
      "image/png": "[encoded data removed]"
     },
     "metadata": {},
     "output_type": "display_data"
    }
   ],
   "source": [
    "# Data set 3\n",
    "\n",
    "sc3 = df_v[['BMDL_class', 'Substance', 'size_class', 'time', 'cell_type', 'assay','func',  'cell_species', 'media',\n",
    "            'cell_type_general', 'species', 'layer']].copy()\n",
    "\n",
    "enc_size = {'S':1, 'M':2, 'L':3}\n",
    "sc3.dropna(axis=0, inplace=True)\n",
    "sc3.reset_index(drop=True, inplace=True)\n",
    "# categorical variables encoding\n",
    "sc3['size_class'] = sc3['size_class'].apply(lambda row: enc_size[row])\n",
    "sc3 = pd.get_dummies(sc3, columns=['Substance',  'cell_type', 'cell_species', 'cell_type_general', 'species' , 'assay',\n",
    "                                   'func', 'media'], drop_first=True)\n",
    "\n",
    "y_layer = sc3['BMDL_class']\n",
    "x_source_l = sc3.drop(labels='BMDL_class', axis=1)\n",
    "\n",
    "fig = plt.figure()\n",
    "plt.hist(y_layer)\n",
    "plt.show()"
   ]
  },
  {
   "cell_type": "code",
   "execution_count": 106,
   "metadata": {
    "pycharm": {
     "name": "#%%\n"
    }
   },
   "outputs": [],
   "source": [
    "# Run this to select data set 1\n",
    "\n",
    "y = y_1\n",
    "x_source = x_source_1"
   ]
  },
  {
   "cell_type": "code",
   "execution_count": 148,
   "metadata": {
    "pycharm": {
     "name": "#%%\n"
    }
   },
   "outputs": [],
   "source": [
    "# Run this to select data set 2\n",
    "\n",
    "y = y_big\n",
    "x_source = x_source_big"
   ]
  },
  {
   "cell_type": "code",
   "execution_count": 158,
   "metadata": {
    "pycharm": {
     "name": "#%%\n"
    }
   },
   "outputs": [],
   "source": [
    "# Run this to select data set 3\n",
    "\n",
    "y = y_layer\n",
    "x_source = x_source_l"
   ]
  },
  {
   "cell_type": "code",
   "execution_count": null,
   "metadata": {
    "pycharm": {
     "name": "#%%\n"
    }
   },
   "outputs": [],
   "source": [
    "##############################\n",
    "# SVM classifier\n",
    "#############################"
   ]
  },
  {
   "cell_type": "code",
   "execution_count": 159,
   "metadata": {
    "pycharm": {
     "name": "#%%\n"
    }
   },
   "outputs": [
    {
     "name": "stdout",
     "output_type": "stream",
     "text": [
      "Index(['size_class', 'time', 'layer', 'Substance_Graphene oxide',\n",
      "       'Substance_rGO', 'cell_type_BEAS- 2B', 'cell_type_J774.A1',\n",
      "       'cell_type_THP-1', 'cell_species_macrophage_human',\n",
      "       'cell_species_macrophage_rodent', 'cell_type_general_macrophage',\n",
      "       'species_rodent', 'assay_ez_cyto', 'assay_ldh', 'assay_mtt', 'assay_pi',\n",
      "       'assay_wst', 'func_COOH', 'func_NH2', 'func_PAA', 'func_PAM',\n",
      "       'func_PEG', 'func_hydrated', 'media_DMEM10FBS', 'media_DMEMF1210FBS',\n",
      "       'media_F1210FBS', 'media_RPMI10FBS'],\n",
      "      dtype='object')\n",
      "length dataset = 61\n"
     ]
    }
   ],
   "source": [
    "\n",
    "# name to use in the figures to save to identify which data set is being used\n",
    "x_name = 'x_3'\n",
    "\n",
    "print(x_source.columns)\n",
    "print(f'length dataset = {len(x_source)}')"
   ]
  },
  {
   "cell_type": "markdown",
   "source": [],
   "metadata": {
    "collapsed": false,
    "pycharm": {
     "name": "#%% md\n"
    }
   }
  },
  {
   "cell_type": "code",
   "execution_count": 160,
   "outputs": [
    {
     "name": "stdout",
     "output_type": "stream",
     "text": [
      ">acc=0.000, est=0.700, cfg={'SVC__C': 10}\n",
      ">acc=1.000, est=1.000, cfg={'SVC__C': 0.001}\n",
      ">acc=1.000, est=1.000, cfg={'SVC__C': 0.001}\n",
      ">acc=1.000, est=1.000, cfg={'SVC__C': 0.001}\n",
      ">acc=1.000, est=1.000, cfg={'SVC__C': 0.001}\n",
      ">acc=1.000, est=1.000, cfg={'SVC__C': 0.001}\n",
      ">acc=1.000, est=0.683, cfg={'SVC__C': 1}\n",
      ">acc=1.000, est=0.683, cfg={'SVC__C': 1}\n",
      ">acc=1.000, est=0.683, cfg={'SVC__C': 1}\n",
      ">acc=1.000, est=0.683, cfg={'SVC__C': 1}\n",
      ">acc=1.000, est=1.000, cfg={'SVC__C': 0.001}\n",
      ">acc=0.000, est=0.717, cfg={'SVC__C': 10}\n",
      ">acc=0.000, est=0.700, cfg={'SVC__C': 10}\n",
      ">acc=0.000, est=0.717, cfg={'SVC__C': 10}\n",
      ">acc=0.000, est=0.733, cfg={'SVC__C': 10}\n",
      ">acc=1.000, est=1.000, cfg={'SVC__C': 0.001}\n",
      ">acc=1.000, est=1.000, cfg={'SVC__C': 0.001}\n",
      ">acc=1.000, est=0.683, cfg={'SVC__C': 1}\n",
      ">acc=1.000, est=0.683, cfg={'SVC__C': 1}\n",
      ">acc=1.000, est=0.683, cfg={'SVC__C': 1}\n",
      ">acc=1.000, est=0.683, cfg={'SVC__C': 1}\n",
      ">acc=1.000, est=0.683, cfg={'SVC__C': 1}\n",
      ">acc=0.000, est=0.717, cfg={'SVC__C': 1}\n",
      ">acc=1.000, est=1.000, cfg={'SVC__C': 0.001}\n",
      ">acc=1.000, est=1.000, cfg={'SVC__C': 0.001}\n",
      ">acc=0.000, est=0.700, cfg={'SVC__C': 10}\n",
      ">acc=1.000, est=1.000, cfg={'SVC__C': 0.001}\n",
      ">acc=0.000, est=0.700, cfg={'SVC__C': 10}\n",
      ">acc=1.000, est=1.000, cfg={'SVC__C': 0.001}\n",
      ">acc=1.000, est=1.000, cfg={'SVC__C': 0.001}\n",
      ">acc=1.000, est=1.000, cfg={'SVC__C': 0.001}\n",
      ">acc=1.000, est=0.683, cfg={'SVC__C': 1}\n",
      ">acc=1.000, est=0.683, cfg={'SVC__C': 1}\n",
      ">acc=0.000, est=0.733, cfg={'SVC__C': 10}\n",
      ">acc=1.000, est=1.000, cfg={'SVC__C': 0.001}\n",
      ">acc=1.000, est=1.000, cfg={'SVC__C': 0.001}\n",
      ">acc=1.000, est=1.000, cfg={'SVC__C': 0.001}\n",
      ">acc=1.000, est=1.000, cfg={'SVC__C': 0.001}\n",
      ">acc=1.000, est=0.683, cfg={'SVC__C': 1}\n",
      ">acc=0.000, est=0.717, cfg={'SVC__C': 10}\n",
      ">acc=1.000, est=1.000, cfg={'SVC__C': 0.001}\n",
      ">acc=1.000, est=1.000, cfg={'SVC__C': 0.001}\n",
      ">acc=0.000, est=0.717, cfg={'SVC__C': 1}\n",
      ">acc=0.000, est=0.717, cfg={'SVC__C': 1}\n",
      ">acc=0.000, est=0.717, cfg={'SVC__C': 1}\n",
      ">acc=0.000, est=0.700, cfg={'SVC__C': 1}\n",
      ">acc=1.000, est=0.683, cfg={'SVC__C': 1}\n",
      ">acc=1.000, est=0.683, cfg={'SVC__C': 1}\n",
      ">acc=1.000, est=0.683, cfg={'SVC__C': 1}\n",
      ">acc=0.000, est=0.700, cfg={'SVC__C': 10}\n",
      ">acc=1.000, est=0.683, cfg={'SVC__C': 1}\n",
      ">acc=0.000, est=0.717, cfg={'SVC__C': 1}\n",
      ">acc=0.000, est=0.717, cfg={'SVC__C': 1}\n",
      ">acc=1.000, est=0.683, cfg={'SVC__C': 1}\n",
      ">acc=1.000, est=0.683, cfg={'SVC__C': 1}\n",
      ">acc=1.000, est=0.667, cfg={'SVC__C': 1}\n",
      ">acc=1.000, est=0.667, cfg={'SVC__C': 1}\n",
      ">acc=1.000, est=0.683, cfg={'SVC__C': 1}\n",
      ">acc=1.000, est=0.683, cfg={'SVC__C': 1}\n",
      ">acc=1.000, est=0.683, cfg={'SVC__C': 1}\n",
      ">acc=0.000, est=1.000, cfg={'SVC__C': 0.0001}\n",
      "Accuracy: 0.705 (0.456)\n"
     ]
    }
   ],
   "source": [
    "\n",
    "# Find best tuning parameter on internal validation set with LOOCV and then test with the outer test set with LOOCV\n",
    "\n",
    "matplotlib.style.use('ggplot')\n",
    "\n",
    "loo = LeaveOneOut()\n",
    "y_true = []\n",
    "y_pred = []\n",
    "y_prob = []\n",
    "outer_results = list()\n",
    "\n",
    "x_source2 = np.array(x_source)\n",
    "#Nested cross validation with parameter tuning\n",
    "for train_index, test_index in loo.split(x_source2):\n",
    "    # split data\n",
    "    X_train, X_test = x_source2[train_index], x_source2[test_index]\n",
    "    y_train, y_test = y[train_index], y[test_index]\n",
    "    # model and test procedure\n",
    "    pipe_svc = Pipeline([('scaler', MinMaxScaler()), ('SVC', SVC(kernel='linear',  class_weight='balanced', probability=True))])\n",
    "    # define search space\n",
    "    search_space = [{'SVC__C': [0.0001, 0.001, 0.01, 0.1, 1, 10]}]\n",
    "    # define search\n",
    "    search = GridSearchCV(pipe_svc, search_space, cv=LeaveOneOut(),  refit=True)\n",
    "    # execute search\n",
    "    result = search.fit(X_train, y_train)\n",
    "    # get the best performing model fit on the whole training set\n",
    "    best_model = result.best_estimator_\n",
    "    # evaluate model on the hold out dataset\n",
    "    yhat = best_model.predict(X_test)\n",
    "    y_prob.append(best_model.predict_proba(X_test))\n",
    "    y_true.extend(y_test)\n",
    "    y_pred.extend(yhat)\n",
    "    # evaluate the model\n",
    "    acc = accuracy_score(y_test, yhat)\n",
    "    # store the result\n",
    "    outer_results.append(acc)\n",
    "    # report progress\n",
    "    print('>acc=%.3f, est=%.3f, cfg=%s' % (acc, result.best_score_, result.best_params_))\n",
    "# summarize the estimated performance of the model\n",
    "print('Accuracy: %.3f (%.3f)' % (np.mean(outer_results), np.std(outer_results)))\n",
    "\n",
    "y_prob = np.concatenate(y_prob, axis=0)"
   ],
   "metadata": {
    "collapsed": false,
    "pycharm": {
     "name": "#%%\n"
    }
   }
  },
  {
   "cell_type": "code",
   "execution_count": 161,
   "outputs": [
    {
     "name": "stdout",
     "output_type": "stream",
     "text": [
      "0.7049180327868853\n"
     ]
    },
    {
     "data": {
      "text/plain": "<Figure size 432x288 with 2 Axes>",
      "image/png": "[encoded data removed]"
     },
     "metadata": {},
     "output_type": "display_data"
    },
    {
     "name": "stdout",
     "output_type": "stream",
     "text": [
      "             precision    recall  f1-score  support  pred       AUC\n",
      "0.0           0.689655  0.952381  0.800000     21.0  29.0  0.635714\n",
      "1.0           0.750000  0.545455  0.631579     22.0  16.0  0.627040\n",
      "2.0           0.687500  0.611111  0.647059     18.0  16.0  0.647287\n",
      "avg / total   0.710783  0.704918  0.694128     61.0  61.0       NaN\n",
      "specificity\n",
      "specificity first row = 0.775\n",
      "specificity second row = 0.8974358974358975\n",
      "specificity third row = 0.8837209302325582\n"
     ]
    }
   ],
   "source": [
    "# Calculate performance metrics\n",
    "\n",
    "# Accuracy score\n",
    "accuracy_avg = metrics.accuracy_score(y_true, y_pred)\n",
    "print(accuracy_avg)\n",
    "# Confusion matrix\n",
    "confusion = metrics.confusion_matrix(y_true, y_pred)\n",
    "#tick_names = ['BMDL < 12', '12<=BMDL<25', '25<=BMDL<50', 'BMDL>=50']\n",
    "tick_names = ['BMDL < 15', '15<=BMDL<60', 'BMDL>=60']\n",
    "\n",
    "confusion_matrix(confusion, tick_names, 'Graphene//New_plots//SVC_confusion_matrix_3class', x_name )\n",
    "# Multiple performance metrics\n",
    "'''\n",
    "recap = metrics.classification_report(y_true, y_pred, target_names=tick_names)\n",
    "print(recap)\n",
    "'''\n",
    "y_true_auc = np.array(y_true)\n",
    "y_pred_auc = np.array(y_pred)\n",
    "\n",
    "report_with_auc = class_report(y_true_auc, y_pred_auc, y_prob, average='weighted')\n",
    "print(report_with_auc)\n",
    "\n",
    "print('specificity')\n",
    "specificity(confusion)\n"
   ],
   "metadata": {
    "collapsed": false,
    "pycharm": {
     "name": "#%%\n"
    }
   }
  },
  {
   "cell_type": "code",
   "execution_count": 162,
   "outputs": [
    {
     "data": {
      "text/plain": "<Figure size 432x288 with 1 Axes>",
      "image/png": "[encoded data removed]"
     },
     "metadata": {},
     "output_type": "display_data"
    },
    {
     "data": {
      "text/plain": "<Figure size 432x288 with 1 Axes>",
      "image/png": "[encoded data removed]"
     },
     "metadata": {},
     "output_type": "display_data"
    },
    {
     "data": {
      "text/plain": "<Figure size 432x288 with 1 Axes>",
      "image/png": "[encoded data removed]"
     },
     "metadata": {},
     "output_type": "display_data"
    }
   ],
   "source": [
    "# print top 10 features of model fit on the whole data set\n",
    "sns.set_style('whitegrid')\n",
    "\n",
    "feature_names = [x for x in x_source.columns]\n",
    "#class_names = ['BMDL < 12', '12<=BMDL<25', '25<=BMDL<50', 'BMDL>=50']\n",
    "class_names = ['BMDL < 15', '15<=BMDL<60', 'BMDL>=60']\n",
    "\n",
    "pipe_final = Pipeline([('scaler', MinMaxScaler()), ('SVC', SVC(kernel='linear',  class_weight='balanced', probability=True))])\n",
    "# define search space\n",
    "search_space = [{'SVC__C': [0.0001, 0.001, 0.01, 0.1, 1, 10]}]\n",
    "# define search\n",
    "search = GridSearchCV(pipe_final, search_space, cv=LeaveOneOut(), scoring='accuracy', refit=True)\n",
    "# execute search\n",
    "result = search.fit(x_source, y)\n",
    "# get the best performing model fit on the whole training set\n",
    "best_model = result.best_estimator_\n",
    "\n",
    "print_top10(feature_names, best_model.named_steps['SVC'], x_name, class_names)"
   ],
   "metadata": {
    "collapsed": false,
    "pycharm": {
     "name": "#%%\n"
    }
   }
  },
  {
   "cell_type": "code",
   "execution_count": null,
   "metadata": {
    "pycharm": {
     "name": "#%%\n"
    }
   },
   "outputs": [],
   "source": [
    "###############################\n",
    "# Decision tree classifier\n",
    "###############################"
   ]
  },
  {
   "cell_type": "code",
   "execution_count": null,
   "outputs": [],
   "source": [
    "# select data set - change accordingly\n",
    "\n",
    "\n"
   ],
   "metadata": {
    "collapsed": false,
    "pycharm": {
     "name": "#%%\n"
    }
   }
  },
  {
   "cell_type": "code",
   "execution_count": 163,
   "outputs": [
    {
     "name": "stdout",
     "output_type": "stream",
     "text": [
      ">acc=1.000, est=0.633, cfg={'DT__max_depth': 3, 'DT__min_samples_split': 2}\n",
      ">acc=1.000, est=0.617, cfg={'DT__max_depth': 4, 'DT__min_samples_split': 2}\n",
      ">acc=1.000, est=0.567, cfg={'DT__max_depth': 3, 'DT__min_samples_split': 2}\n",
      ">acc=1.000, est=0.567, cfg={'DT__max_depth': 3, 'DT__min_samples_split': 2}\n",
      ">acc=1.000, est=0.617, cfg={'DT__max_depth': 4, 'DT__min_samples_split': 2}\n",
      ">acc=1.000, est=0.617, cfg={'DT__max_depth': 4, 'DT__min_samples_split': 2}\n",
      ">acc=1.000, est=0.600, cfg={'DT__max_depth': 3, 'DT__min_samples_split': 3}\n",
      ">acc=1.000, est=0.633, cfg={'DT__max_depth': 3, 'DT__min_samples_split': 3}\n",
      ">acc=1.000, est=0.633, cfg={'DT__max_depth': 3, 'DT__min_samples_split': 2}\n",
      ">acc=1.000, est=0.600, cfg={'DT__max_depth': 3, 'DT__min_samples_split': 4}\n",
      ">acc=0.000, est=0.650, cfg={'DT__max_depth': 3, 'DT__min_samples_split': 2}\n",
      ">acc=0.000, est=0.650, cfg={'DT__max_depth': 3, 'DT__min_samples_split': 2}\n",
      ">acc=1.000, est=0.600, cfg={'DT__max_depth': 3, 'DT__min_samples_split': 2}\n",
      ">acc=0.000, est=0.700, cfg={'DT__max_depth': 3, 'DT__min_samples_split': 2}\n",
      ">acc=0.000, est=0.650, cfg={'DT__max_depth': 3, 'DT__min_samples_split': 2}\n",
      ">acc=0.000, est=0.650, cfg={'DT__max_depth': 3, 'DT__min_samples_split': 2}\n",
      ">acc=1.000, est=0.617, cfg={'DT__max_depth': 4, 'DT__min_samples_split': 2}\n",
      ">acc=1.000, est=0.633, cfg={'DT__max_depth': 3, 'DT__min_samples_split': 2}\n",
      ">acc=1.000, est=0.633, cfg={'DT__max_depth': 3, 'DT__min_samples_split': 2}\n",
      ">acc=1.000, est=0.633, cfg={'DT__max_depth': 3, 'DT__min_samples_split': 2}\n",
      ">acc=1.000, est=0.633, cfg={'DT__max_depth': 3, 'DT__min_samples_split': 2}\n",
      ">acc=1.000, est=0.633, cfg={'DT__max_depth': 3, 'DT__min_samples_split': 2}\n",
      ">acc=0.000, est=0.617, cfg={'DT__max_depth': 3, 'DT__min_samples_split': 2}\n",
      ">acc=0.000, est=0.650, cfg={'DT__max_depth': 3, 'DT__min_samples_split': 2}\n",
      ">acc=1.000, est=0.600, cfg={'DT__max_depth': 4, 'DT__min_samples_split': 2}\n",
      ">acc=0.000, est=0.617, cfg={'DT__max_depth': 3, 'DT__min_samples_split': 2}\n",
      ">acc=1.000, est=0.633, cfg={'DT__max_depth': 3, 'DT__min_samples_split': 2}\n",
      ">acc=0.000, est=0.650, cfg={'DT__max_depth': 3, 'DT__min_samples_split': 2}\n",
      ">acc=1.000, est=0.633, cfg={'DT__max_depth': 3, 'DT__min_samples_split': 2}\n",
      ">acc=1.000, est=0.633, cfg={'DT__max_depth': 3, 'DT__min_samples_split': 2}\n",
      ">acc=1.000, est=0.633, cfg={'DT__max_depth': 3, 'DT__min_samples_split': 2}\n",
      ">acc=1.000, est=0.617, cfg={'DT__max_depth': 3, 'DT__min_samples_split': 2}\n",
      ">acc=1.000, est=0.617, cfg={'DT__max_depth': 3, 'DT__min_samples_split': 2}\n",
      ">acc=0.000, est=0.700, cfg={'DT__max_depth': 3, 'DT__min_samples_split': 2}\n",
      ">acc=1.000, est=0.633, cfg={'DT__max_depth': 3, 'DT__min_samples_split': 2}\n",
      ">acc=1.000, est=0.633, cfg={'DT__max_depth': 3, 'DT__min_samples_split': 2}\n",
      ">acc=1.000, est=0.633, cfg={'DT__max_depth': 3, 'DT__min_samples_split': 2}\n",
      ">acc=1.000, est=0.633, cfg={'DT__max_depth': 3, 'DT__min_samples_split': 2}\n",
      ">acc=1.000, est=0.633, cfg={'DT__max_depth': 3, 'DT__min_samples_split': 2}\n",
      ">acc=0.000, est=0.700, cfg={'DT__max_depth': 3, 'DT__min_samples_split': 2}\n",
      ">acc=0.000, est=0.700, cfg={'DT__max_depth': 3, 'DT__min_samples_split': 2}\n",
      ">acc=0.000, est=0.700, cfg={'DT__max_depth': 3, 'DT__min_samples_split': 2}\n",
      ">acc=0.000, est=0.700, cfg={'DT__max_depth': 3, 'DT__min_samples_split': 2}\n",
      ">acc=0.000, est=0.700, cfg={'DT__max_depth': 3, 'DT__min_samples_split': 2}\n",
      ">acc=0.000, est=0.700, cfg={'DT__max_depth': 3, 'DT__min_samples_split': 2}\n",
      ">acc=0.000, est=0.617, cfg={'DT__max_depth': 3, 'DT__min_samples_split': 2}\n",
      ">acc=1.000, est=0.633, cfg={'DT__max_depth': 3, 'DT__min_samples_split': 2}\n",
      ">acc=1.000, est=0.633, cfg={'DT__max_depth': 3, 'DT__min_samples_split': 2}\n",
      ">acc=1.000, est=0.633, cfg={'DT__max_depth': 3, 'DT__min_samples_split': 2}\n",
      ">acc=0.000, est=0.667, cfg={'DT__max_depth': 4, 'DT__min_samples_split': 5}\n",
      ">acc=0.000, est=0.700, cfg={'DT__max_depth': 3, 'DT__min_samples_split': 2}\n",
      ">acc=0.000, est=0.650, cfg={'DT__max_depth': 3, 'DT__min_samples_split': 2}\n",
      ">acc=0.000, est=0.650, cfg={'DT__max_depth': 3, 'DT__min_samples_split': 2}\n",
      ">acc=1.000, est=0.633, cfg={'DT__max_depth': 3, 'DT__min_samples_split': 2}\n",
      ">acc=1.000, est=0.633, cfg={'DT__max_depth': 3, 'DT__min_samples_split': 2}\n",
      ">acc=1.000, est=0.633, cfg={'DT__max_depth': 3, 'DT__min_samples_split': 2}\n",
      ">acc=1.000, est=0.633, cfg={'DT__max_depth': 3, 'DT__min_samples_split': 2}\n",
      ">acc=1.000, est=0.683, cfg={'DT__max_depth': 3, 'DT__min_samples_split': 2}\n",
      ">acc=1.000, est=0.683, cfg={'DT__max_depth': 3, 'DT__min_samples_split': 2}\n",
      ">acc=1.000, est=0.683, cfg={'DT__max_depth': 3, 'DT__min_samples_split': 2}\n",
      ">acc=0.000, est=0.717, cfg={'DT__max_depth': 3, 'DT__min_samples_split': 2}\n",
      "Accuracy: 0.639 (0.480)\n"
     ]
    }
   ],
   "source": [
    "# Find best tuning parameter on internal validation set with LOOCV and then test with the outer test set with LOOCV\n",
    "\n",
    "matplotlib.style.use('ggplot')\n",
    "\n",
    "loo = LeaveOneOut()\n",
    "y_true = []\n",
    "y_pred = []\n",
    "y_prob = []\n",
    "outer_results = list()\n",
    "\n",
    "x_source2 = np.array(x_source)\n",
    "#Nested cross validation with parameter tuning\n",
    "for train_index, test_index in loo.split(x_source2):\n",
    "    # split data\n",
    "    X_train, X_test = x_source2[train_index], x_source2[test_index]\n",
    "    y_train, y_test = y[train_index], y[test_index]\n",
    "    # model and test procedure\n",
    "    pipe_dt = Pipeline([('scaler', MinMaxScaler()), ('DT', DecisionTreeClassifier(class_weight='balanced'))])\n",
    "    # define search space\n",
    "    search_space = [{'DT__max_depth': [x for x in range(3,6)], 'DT__min_samples_split': [x for x in range(2, 6)]}]\n",
    "    # define search\n",
    "    search = GridSearchCV(pipe_dt, search_space, cv=LeaveOneOut(), scoring='accuracy', refit=True)\n",
    "    # execute search\n",
    "    result = search.fit(X_train, y_train)\n",
    "    # get the best performing model fit on the whole training set\n",
    "    best_model = result.best_estimator_\n",
    "    # evaluate model on the hold out dataset\n",
    "    yhat = best_model.predict(X_test)\n",
    "    y_prob.append(best_model.predict_proba(X_test))\n",
    "    y_true.extend(y_test)\n",
    "    y_pred.extend(yhat)\n",
    "    # evaluate the model\n",
    "    acc = accuracy_score(y_test, yhat)\n",
    "    # store the result\n",
    "    outer_results.append(acc)\n",
    "    # report progress\n",
    "    print('>acc=%.3f, est=%.3f, cfg=%s' % (acc, result.best_score_, result.best_params_))\n",
    "# summarize the estimated performance of the model\n",
    "print('Accuracy: %.3f (%.3f)' % (np.mean(outer_results), np.std(outer_results)))\n",
    "\n",
    "y_prob = np.concatenate(y_prob, axis=0)\n"
   ],
   "metadata": {
    "collapsed": false,
    "pycharm": {
     "name": "#%%\n"
    }
   }
  },
  {
   "cell_type": "code",
   "execution_count": 164,
   "outputs": [
    {
     "name": "stdout",
     "output_type": "stream",
     "text": [
      "0.639344262295082\n"
     ]
    },
    {
     "data": {
      "text/plain": "<Figure size 432x288 with 2 Axes>",
      "image/png": "[encoded data removed]"
     },
     "metadata": {},
     "output_type": "display_data"
    },
    {
     "name": "stdout",
     "output_type": "stream",
     "text": [
      "             precision    recall  f1-score  support  pred       AUC\n",
      "0.0           0.600000  0.714286  0.652174     21.0  25.0  0.747619\n",
      "1.0           0.700000  0.636364  0.666667     22.0  20.0  0.773893\n",
      "2.0           0.625000  0.555556  0.588235     18.0  16.0  0.829457\n",
      "avg / total   0.643443  0.639344  0.638534     61.0  61.0       NaN\n",
      "specificity\n",
      "specificity first row = 0.75\n",
      "specificity second row = 0.8461538461538461\n",
      "specificity third row = 0.8604651162790697\n"
     ]
    }
   ],
   "source": [
    "# Metrics\n",
    "# Accuracy score\n",
    "accuracy_avg = metrics.accuracy_score(y_true, y_pred)\n",
    "print(accuracy_avg)\n",
    "# Confusion matrix\n",
    "confusion = metrics.confusion_matrix(y, y_pred)\n",
    "#tick_names = ['BMDL < 12', '12<=BMDL<25', '25<=BMDL<50', 'BMDL>=50']\n",
    "tick_names = ['BMDL < 15', '15<=BMDL<60', 'BMDL>=60']\n",
    "\n",
    "confusion_matrix(confusion, tick_names, 'Graphene//New_plots//DT_confusion_matrix_3class', x_name )\n",
    "\n",
    "# Multiple performance metrics\n",
    "\n",
    "y_true_auc = np.array(y_true)\n",
    "y_pred_auc = np.array(y_pred)\n",
    "\n",
    "report_with_auc = class_report(y_true_auc, y_pred_auc, y_prob, average='weighted')\n",
    "print(report_with_auc)\n",
    "\n",
    "\n",
    "# Specificity\n",
    "print('specificity')\n",
    "specificity(confusion)"
   ],
   "metadata": {
    "collapsed": false,
    "pycharm": {
     "name": "#%%\n"
    }
   }
  },
  {
   "cell_type": "code",
   "execution_count": 136,
   "outputs": [
    {
     "data": {
      "text/plain": "6"
     },
     "execution_count": 136,
     "metadata": {},
     "output_type": "execute_result"
    }
   ],
   "source": [
    "confusion[2,0]"
   ],
   "metadata": {
    "collapsed": false,
    "pycharm": {
     "name": "#%%\n"
    }
   }
  },
  {
   "cell_type": "code",
   "execution_count": 165,
   "outputs": [
    {
     "data": {
      "text/plain": "'Graphene\\\\New_plots\\\\Decision_tree_classifier_3class_cat_15-60_balanced_x_3.dot.png'"
     },
     "execution_count": 165,
     "metadata": {},
     "output_type": "execute_result"
    }
   ],
   "source": [
    "# Fit on whole data set to find single tree\n",
    "feature_names = [x for x in x_source.columns]\n",
    "#class_names = ['BMDL < 12', '12<=BMDL<25', '25<=BMDL<50', 'BMDL>=50']\n",
    "class_names = ['BMDL < 15', '15<=BMDL<60', 'BMDL>=60']\n",
    "\n",
    "pipe_dt = Pipeline([('scaler', MinMaxScaler()), ('DT', DecisionTreeClassifier(class_weight='balanced'))])\n",
    "# define search space\n",
    "search_space = [{'DT__max_depth': [x for x in range(3,6)], 'DT__min_samples_split': [x for x in range(2, 6)]}]\n",
    "# define search\n",
    "search = GridSearchCV(pipe_dt, search_space, cv=LeaveOneOut(), scoring='accuracy', refit=True)\n",
    "# execute search\n",
    "tree_res = search.fit(x_source, y)\n",
    "# get the best performing model fit on the whole training set\n",
    "best_model = tree_res.best_estimator_\n",
    "\n",
    "# Draw tree\n",
    "feature_names = x_source.columns\n",
    "dot_data = export_graphviz(best_model.named_steps['DT'], out_file=f'Graphene//New_plots//Decision_tree_classifier_3class_cat_15-60_balanced_{x_name}.dot',\n",
    "            filled=True, rounded=True, feature_names=feature_names, class_names=['BMDL < 15', '15<=BMDL<60',  'BMDL>=60'])\n",
    "\n",
    "render('dot', 'png', f'Graphene//New_plots//Decision_tree_classifier_3class_cat_15-60_balanced_{x_name}.dot')\n",
    "\n"
   ],
   "metadata": {
    "collapsed": false,
    "pycharm": {
     "name": "#%%\n"
    }
   }
  },
  {
   "cell_type": "code",
   "execution_count": null,
   "metadata": {
    "pycharm": {
     "name": "#%%\n"
    }
   },
   "outputs": [],
   "source": [
    "##############################\n",
    "# Random Forest classifier\n",
    "##############################"
   ]
  },
  {
   "cell_type": "code",
   "execution_count": 166,
   "outputs": [
    {
     "name": "stdout",
     "output_type": "stream",
     "text": [
      ">acc=1.000, est=0.617, cfg={'RF__max_depth': 4, 'RF__min_samples_split': 2, 'RF__n_estimators': 10}\n",
      ">acc=1.000, est=0.600, cfg={'RF__max_depth': 3, 'RF__min_samples_split': 4, 'RF__n_estimators': 10}\n",
      ">acc=1.000, est=0.617, cfg={'RF__max_depth': 5, 'RF__min_samples_split': 4, 'RF__n_estimators': 10}\n",
      ">acc=1.000, est=0.600, cfg={'RF__max_depth': 4, 'RF__min_samples_split': 3, 'RF__n_estimators': 10}\n",
      ">acc=1.000, est=0.650, cfg={'RF__max_depth': 4, 'RF__min_samples_split': 3, 'RF__n_estimators': 10}\n",
      ">acc=1.000, est=0.583, cfg={'RF__max_depth': 4, 'RF__min_samples_split': 2, 'RF__n_estimators': 10}\n",
      ">acc=0.000, est=0.650, cfg={'RF__max_depth': 4, 'RF__min_samples_split': 2, 'RF__n_estimators': 10}\n",
      ">acc=1.000, est=0.600, cfg={'RF__max_depth': 3, 'RF__min_samples_split': 5, 'RF__n_estimators': 10}\n",
      ">acc=0.000, est=0.633, cfg={'RF__max_depth': 4, 'RF__min_samples_split': 2, 'RF__n_estimators': 10}\n",
      ">acc=1.000, est=0.600, cfg={'RF__max_depth': 4, 'RF__min_samples_split': 3, 'RF__n_estimators': 10}\n",
      ">acc=0.000, est=0.650, cfg={'RF__max_depth': 4, 'RF__min_samples_split': 3, 'RF__n_estimators': 10}\n",
      ">acc=1.000, est=0.583, cfg={'RF__max_depth': 5, 'RF__min_samples_split': 2, 'RF__n_estimators': 10}\n",
      ">acc=0.000, est=0.667, cfg={'RF__max_depth': 3, 'RF__min_samples_split': 2, 'RF__n_estimators': 10}\n",
      ">acc=0.000, est=0.633, cfg={'RF__max_depth': 4, 'RF__min_samples_split': 5, 'RF__n_estimators': 10}\n",
      ">acc=0.000, est=0.617, cfg={'RF__max_depth': 4, 'RF__min_samples_split': 2, 'RF__n_estimators': 10}\n",
      ">acc=1.000, est=0.600, cfg={'RF__max_depth': 5, 'RF__min_samples_split': 3, 'RF__n_estimators': 10}\n",
      ">acc=1.000, est=0.600, cfg={'RF__max_depth': 4, 'RF__min_samples_split': 2, 'RF__n_estimators': 10}\n",
      ">acc=1.000, est=0.600, cfg={'RF__max_depth': 3, 'RF__min_samples_split': 4, 'RF__n_estimators': 10}\n",
      ">acc=1.000, est=0.633, cfg={'RF__max_depth': 5, 'RF__min_samples_split': 2, 'RF__n_estimators': 10}\n",
      ">acc=1.000, est=0.583, cfg={'RF__max_depth': 3, 'RF__min_samples_split': 4, 'RF__n_estimators': 10}\n",
      ">acc=1.000, est=0.617, cfg={'RF__max_depth': 4, 'RF__min_samples_split': 4, 'RF__n_estimators': 10}\n",
      ">acc=1.000, est=0.633, cfg={'RF__max_depth': 3, 'RF__min_samples_split': 4, 'RF__n_estimators': 10}\n",
      ">acc=0.000, est=0.667, cfg={'RF__max_depth': 4, 'RF__min_samples_split': 4, 'RF__n_estimators': 10}\n",
      ">acc=1.000, est=0.600, cfg={'RF__max_depth': 3, 'RF__min_samples_split': 5, 'RF__n_estimators': 10}\n",
      ">acc=1.000, est=0.617, cfg={'RF__max_depth': 4, 'RF__min_samples_split': 3, 'RF__n_estimators': 10}\n",
      ">acc=0.000, est=0.683, cfg={'RF__max_depth': 5, 'RF__min_samples_split': 2, 'RF__n_estimators': 10}\n",
      ">acc=1.000, est=0.583, cfg={'RF__max_depth': 5, 'RF__min_samples_split': 2, 'RF__n_estimators': 10}\n",
      ">acc=0.000, est=0.633, cfg={'RF__max_depth': 4, 'RF__min_samples_split': 5, 'RF__n_estimators': 10}\n",
      ">acc=1.000, est=0.617, cfg={'RF__max_depth': 3, 'RF__min_samples_split': 4, 'RF__n_estimators': 10}\n",
      ">acc=0.000, est=0.617, cfg={'RF__max_depth': 3, 'RF__min_samples_split': 2, 'RF__n_estimators': 10}\n",
      ">acc=0.000, est=0.617, cfg={'RF__max_depth': 4, 'RF__min_samples_split': 2, 'RF__n_estimators': 10}\n",
      ">acc=0.000, est=0.617, cfg={'RF__max_depth': 4, 'RF__min_samples_split': 4, 'RF__n_estimators': 10}\n",
      ">acc=1.000, est=0.583, cfg={'RF__max_depth': 5, 'RF__min_samples_split': 4, 'RF__n_estimators': 10}\n",
      ">acc=0.000, est=0.633, cfg={'RF__max_depth': 4, 'RF__min_samples_split': 3, 'RF__n_estimators': 10}\n",
      ">acc=0.000, est=0.633, cfg={'RF__max_depth': 4, 'RF__min_samples_split': 4, 'RF__n_estimators': 10}\n",
      ">acc=0.000, est=0.633, cfg={'RF__max_depth': 5, 'RF__min_samples_split': 2, 'RF__n_estimators': 10}\n",
      ">acc=1.000, est=0.600, cfg={'RF__max_depth': 5, 'RF__min_samples_split': 4, 'RF__n_estimators': 10}\n",
      ">acc=0.000, est=0.583, cfg={'RF__max_depth': 5, 'RF__min_samples_split': 2, 'RF__n_estimators': 10}\n",
      ">acc=1.000, est=0.600, cfg={'RF__max_depth': 4, 'RF__min_samples_split': 3, 'RF__n_estimators': 10}\n",
      ">acc=0.000, est=0.633, cfg={'RF__max_depth': 4, 'RF__min_samples_split': 3, 'RF__n_estimators': 10}\n",
      ">acc=0.000, est=0.617, cfg={'RF__max_depth': 5, 'RF__min_samples_split': 5, 'RF__n_estimators': 10}\n",
      ">acc=0.000, est=0.633, cfg={'RF__max_depth': 3, 'RF__min_samples_split': 4, 'RF__n_estimators': 10}\n",
      ">acc=0.000, est=0.667, cfg={'RF__max_depth': 5, 'RF__min_samples_split': 2, 'RF__n_estimators': 10}\n",
      ">acc=0.000, est=0.617, cfg={'RF__max_depth': 5, 'RF__min_samples_split': 2, 'RF__n_estimators': 10}\n",
      ">acc=0.000, est=0.633, cfg={'RF__max_depth': 4, 'RF__min_samples_split': 4, 'RF__n_estimators': 10}\n",
      ">acc=0.000, est=0.617, cfg={'RF__max_depth': 4, 'RF__min_samples_split': 3, 'RF__n_estimators': 10}\n",
      ">acc=1.000, est=0.600, cfg={'RF__max_depth': 4, 'RF__min_samples_split': 4, 'RF__n_estimators': 10}\n",
      ">acc=1.000, est=0.600, cfg={'RF__max_depth': 4, 'RF__min_samples_split': 2, 'RF__n_estimators': 10}\n",
      ">acc=1.000, est=0.633, cfg={'RF__max_depth': 5, 'RF__min_samples_split': 2, 'RF__n_estimators': 10}\n",
      ">acc=0.000, est=0.633, cfg={'RF__max_depth': 3, 'RF__min_samples_split': 3, 'RF__n_estimators': 10}\n",
      ">acc=1.000, est=0.650, cfg={'RF__max_depth': 4, 'RF__min_samples_split': 3, 'RF__n_estimators': 10}\n",
      ">acc=0.000, est=0.633, cfg={'RF__max_depth': 3, 'RF__min_samples_split': 5, 'RF__n_estimators': 10}\n",
      ">acc=0.000, est=0.617, cfg={'RF__max_depth': 4, 'RF__min_samples_split': 2, 'RF__n_estimators': 10}\n",
      ">acc=1.000, est=0.650, cfg={'RF__max_depth': 4, 'RF__min_samples_split': 4, 'RF__n_estimators': 10}\n",
      ">acc=1.000, est=0.633, cfg={'RF__max_depth': 5, 'RF__min_samples_split': 2, 'RF__n_estimators': 10}\n",
      ">acc=0.000, est=0.600, cfg={'RF__max_depth': 5, 'RF__min_samples_split': 5, 'RF__n_estimators': 10}\n",
      ">acc=1.000, est=0.650, cfg={'RF__max_depth': 5, 'RF__min_samples_split': 3, 'RF__n_estimators': 10}\n",
      ">acc=1.000, est=0.583, cfg={'RF__max_depth': 4, 'RF__min_samples_split': 4, 'RF__n_estimators': 10}\n",
      ">acc=1.000, est=0.617, cfg={'RF__max_depth': 3, 'RF__min_samples_split': 4, 'RF__n_estimators': 10}\n",
      ">acc=1.000, est=0.633, cfg={'RF__max_depth': 5, 'RF__min_samples_split': 5, 'RF__n_estimators': 10}\n",
      ">acc=0.000, est=0.600, cfg={'RF__max_depth': 3, 'RF__min_samples_split': 4, 'RF__n_estimators': 10}\n",
      "Accuracy: 0.541 (0.498)\n"
     ]
    }
   ],
   "source": [
    "# Find best tuning parameter on internal validation set with LOOCV and then test with the outer test set with LOOCV\n",
    "\n",
    "matplotlib.style.use('ggplot')\n",
    "\n",
    "loo = LeaveOneOut()\n",
    "y_true = []\n",
    "y_pred = []\n",
    "y_prob = []\n",
    "outer_results = list()\n",
    "\n",
    "x_source2 = np.array(x_source)\n",
    "#Nested cross validation with parameter tuning\n",
    "for train_index, test_index in loo.split(x_source2):\n",
    "    # split data\n",
    "    X_train, X_test = x_source2[train_index], x_source2[test_index]\n",
    "    y_train, y_test = y[train_index], y[test_index]\n",
    "    # model and test procedure\n",
    "    pipe_dt = Pipeline([('scaler', MinMaxScaler()), ('RF', RandomForestClassifier())])\n",
    "    # define search space\n",
    "    search_space = [{'RF__n_estimators': [10], 'RF__max_depth': [x for x in range(3,6)], 'RF__min_samples_split': [x for x in range(2, 6)]}]\n",
    "    # define search\n",
    "    search = GridSearchCV(pipe_dt, search_space, cv=LeaveOneOut(), scoring='accuracy', refit=True)\n",
    "    # execute search\n",
    "    result = search.fit(X_train, y_train)\n",
    "    # get the best performing model fit on the whole training set\n",
    "    best_model = result.best_estimator_\n",
    "    # evaluate model on the hold out dataset\n",
    "    yhat = best_model.predict(X_test)\n",
    "    y_prob.append(best_model.predict_proba(X_test))\n",
    "    y_true.extend(y_test)\n",
    "    y_pred.extend(yhat)\n",
    "    # evaluate the model\n",
    "    acc = accuracy_score(y_test, yhat)\n",
    "    # store the result\n",
    "    outer_results.append(acc)\n",
    "    # report progress\n",
    "    print('>acc=%.3f, est=%.3f, cfg=%s' % (acc, result.best_score_, result.best_params_))\n",
    "# summarize the estimated performance of the model\n",
    "print('Accuracy: %.3f (%.3f)' % (np.mean(outer_results), np.std(outer_results)))\n",
    "\n",
    "y_prob = np.concatenate(y_prob, axis=0)\n"
   ],
   "metadata": {
    "collapsed": false,
    "pycharm": {
     "name": "#%%\n"
    }
   }
  },
  {
   "cell_type": "code",
   "execution_count": 167,
   "outputs": [
    {
     "data": {
      "text/plain": "<Figure size 432x288 with 2 Axes>",
      "image/png": "[encoded data removed]"
     },
     "metadata": {},
     "output_type": "display_data"
    },
    {
     "name": "stdout",
     "output_type": "stream",
     "text": [
      "             precision    recall  f1-score  support  pred       AUC\n",
      "0.0           0.521739  0.571429  0.545455     21.0  23.0  0.717857\n",
      "1.0           0.578947  0.500000  0.536585     22.0  19.0  0.710956\n",
      "2.0           0.526316  0.555556  0.540541     18.0  19.0  0.768734\n",
      "avg / total   0.543722  0.540984  0.540806     61.0  61.0       NaN\n",
      "specificity\n",
      "specificity first row = 0.725\n",
      "specificity second row = 0.7948717948717948\n",
      "specificity third row = 0.7906976744186046\n"
     ]
    }
   ],
   "source": [
    "# METRICS\n",
    "# Accuracy score\n",
    "accuracy_avg = metrics.accuracy_score(y_true, y_pred)\n",
    "\n",
    "# Confusion matrix\n",
    "confusion = metrics.confusion_matrix(y, y_pred)\n",
    "#tick_names = ['BMDL < 12', '12<=BMDL<25', '25<=BMDL<50', 'BMDL>=50']\n",
    "tick_names = ['BMDL < 15', '15<=BMDL<60', 'BMDL>=60']\n",
    "\n",
    "confusion_matrix(confusion, tick_names, 'Graphene//New_plots//RF_confusion_matrix_3class', x_name )\n",
    "# Multiple performance metrics\n",
    "\n",
    "y_true_auc = np.array(y_true)\n",
    "y_pred_auc = np.array(y_pred)\n",
    "\n",
    "report_with_auc = class_report(y_true_auc, y_pred_auc, y_prob, average='weighted')\n",
    "print(report_with_auc)\n",
    "\n",
    "\n",
    "# Specificity\n",
    "print('specificity')\n",
    "specificity(confusion)\n",
    "\n"
   ],
   "metadata": {
    "collapsed": false,
    "pycharm": {
     "name": "#%%\n"
    }
   }
  }
 ],
 "metadata": {
  "kernelspec": {
   "display_name": "Python 3",
   "language": "python",
   "name": "python3"
  },
  "language_info": {
   "codemirror_mode": {
    "name": "ipython",
    "version": 3
   },
   "file_extension": ".py",
   "mimetype": "text/x-python",
   "name": "python",
   "nbconvert_exporter": "python",
   "pygments_lexer": "ipython3",
   "version": "3.8.5"
  }
 },
 "nbformat": 4,
 "nbformat_minor": 1
}